{
 "cells": [
  {
   "cell_type": "code",
   "execution_count": 1,
   "metadata": {},
   "outputs": [
    {
     "data": {
      "text/html": [
       "<div>\n",
       "<style scoped>\n",
       "    .dataframe tbody tr th:only-of-type {\n",
       "        vertical-align: middle;\n",
       "    }\n",
       "\n",
       "    .dataframe tbody tr th {\n",
       "        vertical-align: top;\n",
       "    }\n",
       "\n",
       "    .dataframe thead th {\n",
       "        text-align: right;\n",
       "    }\n",
       "</style>\n",
       "<table border=\"1\" class=\"dataframe\">\n",
       "  <thead>\n",
       "    <tr style=\"text-align: right;\">\n",
       "      <th></th>\n",
       "      <th>Total</th>\n",
       "      <th>Sample</th>\n",
       "      <th>Rank</th>\n",
       "      <th>N_Ranks</th>\n",
       "      <th>#(Ni &gt; Sj)</th>\n",
       "    </tr>\n",
       "  </thead>\n",
       "  <tbody>\n",
       "    <tr>\n",
       "      <th>0</th>\n",
       "      <td>0.0</td>\n",
       "      <td>S</td>\n",
       "      <td>3.5</td>\n",
       "      <td>0.0</td>\n",
       "      <td>0</td>\n",
       "    </tr>\n",
       "    <tr>\n",
       "      <th>1</th>\n",
       "      <td>0.0</td>\n",
       "      <td>N</td>\n",
       "      <td>3.5</td>\n",
       "      <td>3.5</td>\n",
       "      <td>0</td>\n",
       "    </tr>\n",
       "    <tr>\n",
       "      <th>2</th>\n",
       "      <td>0.0</td>\n",
       "      <td>N</td>\n",
       "      <td>3.5</td>\n",
       "      <td>3.5</td>\n",
       "      <td>0</td>\n",
       "    </tr>\n",
       "    <tr>\n",
       "      <th>3</th>\n",
       "      <td>0.0</td>\n",
       "      <td>S</td>\n",
       "      <td>3.5</td>\n",
       "      <td>0.0</td>\n",
       "      <td>0</td>\n",
       "    </tr>\n",
       "    <tr>\n",
       "      <th>4</th>\n",
       "      <td>0.0</td>\n",
       "      <td>S</td>\n",
       "      <td>3.5</td>\n",
       "      <td>0.0</td>\n",
       "      <td>0</td>\n",
       "    </tr>\n",
       "    <tr>\n",
       "      <th>5</th>\n",
       "      <td>0.0</td>\n",
       "      <td>S</td>\n",
       "      <td>3.5</td>\n",
       "      <td>0.0</td>\n",
       "      <td>0</td>\n",
       "    </tr>\n",
       "    <tr>\n",
       "      <th>6</th>\n",
       "      <td>0.1</td>\n",
       "      <td>S</td>\n",
       "      <td>7.5</td>\n",
       "      <td>0.0</td>\n",
       "      <td>0</td>\n",
       "    </tr>\n",
       "    <tr>\n",
       "      <th>7</th>\n",
       "      <td>0.1</td>\n",
       "      <td>S</td>\n",
       "      <td>7.5</td>\n",
       "      <td>0.0</td>\n",
       "      <td>0</td>\n",
       "    </tr>\n",
       "    <tr>\n",
       "      <th>8</th>\n",
       "      <td>0.2</td>\n",
       "      <td>S</td>\n",
       "      <td>9.0</td>\n",
       "      <td>0.0</td>\n",
       "      <td>0</td>\n",
       "    </tr>\n",
       "    <tr>\n",
       "      <th>9</th>\n",
       "      <td>0.4</td>\n",
       "      <td>S</td>\n",
       "      <td>10.0</td>\n",
       "      <td>0.0</td>\n",
       "      <td>0</td>\n",
       "    </tr>\n",
       "    <tr>\n",
       "      <th>10</th>\n",
       "      <td>5.5</td>\n",
       "      <td>N</td>\n",
       "      <td>11.0</td>\n",
       "      <td>11.0</td>\n",
       "      <td>8</td>\n",
       "    </tr>\n",
       "    <tr>\n",
       "      <th>11</th>\n",
       "      <td>5.9</td>\n",
       "      <td>S</td>\n",
       "      <td>12.0</td>\n",
       "      <td>0.0</td>\n",
       "      <td>0</td>\n",
       "    </tr>\n",
       "    <tr>\n",
       "      <th>12</th>\n",
       "      <td>6.0</td>\n",
       "      <td>S</td>\n",
       "      <td>13.0</td>\n",
       "      <td>0.0</td>\n",
       "      <td>0</td>\n",
       "    </tr>\n",
       "    <tr>\n",
       "      <th>13</th>\n",
       "      <td>6.6</td>\n",
       "      <td>S</td>\n",
       "      <td>14.0</td>\n",
       "      <td>0.0</td>\n",
       "      <td>0</td>\n",
       "    </tr>\n",
       "    <tr>\n",
       "      <th>14</th>\n",
       "      <td>8.5</td>\n",
       "      <td>N</td>\n",
       "      <td>15.0</td>\n",
       "      <td>15.0</td>\n",
       "      <td>11</td>\n",
       "    </tr>\n",
       "    <tr>\n",
       "      <th>15</th>\n",
       "      <td>13.0</td>\n",
       "      <td>S</td>\n",
       "      <td>16.0</td>\n",
       "      <td>0.0</td>\n",
       "      <td>0</td>\n",
       "    </tr>\n",
       "    <tr>\n",
       "      <th>16</th>\n",
       "      <td>16.6</td>\n",
       "      <td>S</td>\n",
       "      <td>17.0</td>\n",
       "      <td>0.0</td>\n",
       "      <td>0</td>\n",
       "    </tr>\n",
       "    <tr>\n",
       "      <th>17</th>\n",
       "      <td>25.3</td>\n",
       "      <td>S</td>\n",
       "      <td>18.0</td>\n",
       "      <td>0.0</td>\n",
       "      <td>0</td>\n",
       "    </tr>\n",
       "    <tr>\n",
       "      <th>18</th>\n",
       "      <td>32.1</td>\n",
       "      <td>S</td>\n",
       "      <td>19.0</td>\n",
       "      <td>0.0</td>\n",
       "      <td>0</td>\n",
       "    </tr>\n",
       "    <tr>\n",
       "      <th>19</th>\n",
       "      <td>33.3</td>\n",
       "      <td>S</td>\n",
       "      <td>20.0</td>\n",
       "      <td>0.0</td>\n",
       "      <td>0</td>\n",
       "    </tr>\n",
       "    <tr>\n",
       "      <th>20</th>\n",
       "      <td>34.1</td>\n",
       "      <td>S</td>\n",
       "      <td>21.0</td>\n",
       "      <td>0.0</td>\n",
       "      <td>0</td>\n",
       "    </tr>\n",
       "    <tr>\n",
       "      <th>21</th>\n",
       "      <td>36.9</td>\n",
       "      <td>N</td>\n",
       "      <td>22.0</td>\n",
       "      <td>22.0</td>\n",
       "      <td>17</td>\n",
       "    </tr>\n",
       "    <tr>\n",
       "      <th>22</th>\n",
       "      <td>43.2</td>\n",
       "      <td>N</td>\n",
       "      <td>23.0</td>\n",
       "      <td>23.0</td>\n",
       "      <td>17</td>\n",
       "    </tr>\n",
       "    <tr>\n",
       "      <th>23</th>\n",
       "      <td>62.8</td>\n",
       "      <td>S</td>\n",
       "      <td>24.0</td>\n",
       "      <td>0.0</td>\n",
       "      <td>0</td>\n",
       "    </tr>\n",
       "    <tr>\n",
       "      <th>24</th>\n",
       "      <td>91.7</td>\n",
       "      <td>N</td>\n",
       "      <td>25.0</td>\n",
       "      <td>25.0</td>\n",
       "      <td>18</td>\n",
       "    </tr>\n",
       "    <tr>\n",
       "      <th>25</th>\n",
       "      <td>101.9</td>\n",
       "      <td>N</td>\n",
       "      <td>26.0</td>\n",
       "      <td>26.0</td>\n",
       "      <td>18</td>\n",
       "    </tr>\n",
       "    <tr>\n",
       "      <th>26</th>\n",
       "      <td>102.2</td>\n",
       "      <td>N</td>\n",
       "      <td>27.0</td>\n",
       "      <td>27.0</td>\n",
       "      <td>18</td>\n",
       "    </tr>\n",
       "    <tr>\n",
       "      <th>27</th>\n",
       "      <td>108.2</td>\n",
       "      <td>N</td>\n",
       "      <td>28.0</td>\n",
       "      <td>28.0</td>\n",
       "      <td>18</td>\n",
       "    </tr>\n",
       "    <tr>\n",
       "      <th>28</th>\n",
       "      <td>113.8</td>\n",
       "      <td>N</td>\n",
       "      <td>29.0</td>\n",
       "      <td>29.0</td>\n",
       "      <td>18</td>\n",
       "    </tr>\n",
       "    <tr>\n",
       "      <th>29</th>\n",
       "      <td>119.8</td>\n",
       "      <td>S</td>\n",
       "      <td>30.0</td>\n",
       "      <td>0.0</td>\n",
       "      <td>0</td>\n",
       "    </tr>\n",
       "    <tr>\n",
       "      <th>30</th>\n",
       "      <td>122.0</td>\n",
       "      <td>N</td>\n",
       "      <td>31.0</td>\n",
       "      <td>31.0</td>\n",
       "      <td>19</td>\n",
       "    </tr>\n",
       "    <tr>\n",
       "      <th>31</th>\n",
       "      <td>200.9</td>\n",
       "      <td>N</td>\n",
       "      <td>32.0</td>\n",
       "      <td>32.0</td>\n",
       "      <td>19</td>\n",
       "    </tr>\n",
       "    <tr>\n",
       "      <th>32</th>\n",
       "      <td>289.4</td>\n",
       "      <td>N</td>\n",
       "      <td>33.0</td>\n",
       "      <td>33.0</td>\n",
       "      <td>19</td>\n",
       "    </tr>\n",
       "    <tr>\n",
       "      <th>33</th>\n",
       "      <td>359.3</td>\n",
       "      <td>S</td>\n",
       "      <td>34.0</td>\n",
       "      <td>0.0</td>\n",
       "      <td>0</td>\n",
       "    </tr>\n",
       "    <tr>\n",
       "      <th>34</th>\n",
       "      <td>620.4</td>\n",
       "      <td>N</td>\n",
       "      <td>35.0</td>\n",
       "      <td>35.0</td>\n",
       "      <td>20</td>\n",
       "    </tr>\n",
       "  </tbody>\n",
       "</table>\n",
       "</div>"
      ],
      "text/plain": [
       "    Total Sample  Rank  N_Ranks  #(Ni > Sj)\n",
       "0     0.0      S   3.5      0.0           0\n",
       "1     0.0      N   3.5      3.5           0\n",
       "2     0.0      N   3.5      3.5           0\n",
       "3     0.0      S   3.5      0.0           0\n",
       "4     0.0      S   3.5      0.0           0\n",
       "5     0.0      S   3.5      0.0           0\n",
       "6     0.1      S   7.5      0.0           0\n",
       "7     0.1      S   7.5      0.0           0\n",
       "8     0.2      S   9.0      0.0           0\n",
       "9     0.4      S  10.0      0.0           0\n",
       "10    5.5      N  11.0     11.0           8\n",
       "11    5.9      S  12.0      0.0           0\n",
       "12    6.0      S  13.0      0.0           0\n",
       "13    6.6      S  14.0      0.0           0\n",
       "14    8.5      N  15.0     15.0          11\n",
       "15   13.0      S  16.0      0.0           0\n",
       "16   16.6      S  17.0      0.0           0\n",
       "17   25.3      S  18.0      0.0           0\n",
       "18   32.1      S  19.0      0.0           0\n",
       "19   33.3      S  20.0      0.0           0\n",
       "20   34.1      S  21.0      0.0           0\n",
       "21   36.9      N  22.0     22.0          17\n",
       "22   43.2      N  23.0     23.0          17\n",
       "23   62.8      S  24.0      0.0           0\n",
       "24   91.7      N  25.0     25.0          18\n",
       "25  101.9      N  26.0     26.0          18\n",
       "26  102.2      N  27.0     27.0          18\n",
       "27  108.2      N  28.0     28.0          18\n",
       "28  113.8      N  29.0     29.0          18\n",
       "29  119.8      S  30.0      0.0           0\n",
       "30  122.0      N  31.0     31.0          19\n",
       "31  200.9      N  32.0     32.0          19\n",
       "32  289.4      N  33.0     33.0          19\n",
       "33  359.3      S  34.0      0.0           0\n",
       "34  620.4      N  35.0     35.0          20"
      ]
     },
     "execution_count": 1,
     "metadata": {},
     "output_type": "execute_result"
    }
   ],
   "source": [
    "import matplotlib.pyplot as plt\n",
    "import pandas as pd\n",
    "import numpy as np\n",
    "from scipy.stats import t, norm, rankdata\n",
    "import warnings\n",
    "warnings.filterwarnings('ignore')\n",
    "\n",
    "# Enter 2 columns of B (before), A (after)\n",
    "A = {'Total': [16.6,33.3,34.1,0,119.8,.1,25.3,359.3,6.6,.4,62.8,.2,13,0,0,5.9,.1,6,32.1,0]}\n",
    "B = {'Total': [289.4,0,620.4,0,8.5,5.5,43.2,91.7,200.9,113.8,102.2,108.2,36.9,122,101.9]}\n",
    "\n",
    "d1 = pd.DataFrame(A, columns=['Total'])\n",
    "d1['Sample'] = 'S'\n",
    "d2 = pd.DataFrame(B, columns=['Total'])\n",
    "d2['Sample'] = 'N'\n",
    "df = pd.concat([d1, d2])\n",
    "df = df.sort_values(by='Total', axis=0).reset_index(drop=True)\n",
    "df['Rank'] = rankdata(df['Total'])\n",
    "df['N_Ranks'] = df.apply(lambda X: X['Rank'] if X.Sample=='N' else 0, axis=1)\n",
    "df['#(Ni > Sj)'] = [sum(df['Rank'][df.Sample=='S'] < x) for x in df['N_Ranks'].values]\n",
    "df"
   ]
  },
  {
   "cell_type": "code",
   "execution_count": 2,
   "metadata": {},
   "outputs": [
    {
     "data": {
      "image/png": "[encoded data removed]",
      "text/plain": [
       "<Figure size 432x288 with 1 Axes>"
      ]
     },
     "metadata": {
      "needs_background": "light"
     },
     "output_type": "display_data"
    }
   ],
   "source": [
    "plt.boxplot([df['Total'][df.Sample=='S'], \n",
    "             df['Total'][df.Sample=='N'],\n",
    "             df['Total']], \n",
    "             labels=['S', 'N', 'Pooled']);"
   ]
  },
  {
   "cell_type": "code",
   "execution_count": 3,
   "metadata": {},
   "outputs": [
    {
     "data": {
      "text/plain": [
       "(6.3, 35.78, 6646.819, 101.9, 122.973, 25305.864)"
      ]
     },
     "execution_count": 3,
     "metadata": {},
     "output_type": "execute_result"
    }
   ],
   "source": [
    "# Compute the means and variances for 2 samples\n",
    "mean_S = df['Total'][df.Sample=='S'].mean() \n",
    "var_S  = df['Total'][df.Sample=='S'].var()  \n",
    "mean_N = df['Total'][df.Sample=='N'].mean()\n",
    "var_N  = df['Total'][df.Sample=='N'].var()\n",
    "med_S  = df['Total'][df.Sample=='S'].median()\n",
    "med_N  = df['Total'][df.Sample=='N'].median() \n",
    "round(med_S, 3), round(mean_S, 3), round(var_S, 3),round(med_N, 3), round(mean_N, 3), round(var_N, 3)"
   ]
  },
  {
   "cell_type": "code",
   "execution_count": 4,
   "metadata": {},
   "outputs": [
    {
     "data": {
      "text/plain": [
       "(14562.777, 2.115)"
      ]
     },
     "execution_count": 4,
     "metadata": {},
     "output_type": "execute_result"
    }
   ],
   "source": [
    "# Compute the pooled sample variance\n",
    "n, m = len(df[df.Sample=='S']), len(df[df.Sample=='N'])\n",
    "var_P = ((n - 1) * var_S + (m - 1) * var_N) / (n + m - 2)\n",
    "\n",
    "# Compute the T statistics under H0\n",
    "t_null = abs(mean_S - mean_N) / (var_P / n + var_P / m)**0.5\n",
    "round(var_P, 3), round(t_null, 3)"
   ]
  },
  {
   "cell_type": "code",
   "execution_count": 5,
   "metadata": {},
   "outputs": [
    {
     "data": {
      "text/plain": [
       "19.502"
      ]
     },
     "execution_count": 5,
     "metadata": {},
     "output_type": "execute_result"
    }
   ],
   "source": [
    "# Compute the ddof for T statistics\n",
    "ddof = (var_S / n + var_N / m)**2 / ((var_S / n)**2 / (n - 1) + (var_N / m)**2 / (m - 1))\n",
    "round(ddof, 3)"
   ]
  },
  {
   "cell_type": "code",
   "execution_count": 6,
   "metadata": {},
   "outputs": [
    {
     "data": {
      "text/plain": [
       "0.047"
      ]
     },
     "execution_count": 6,
     "metadata": {},
     "output_type": "execute_result"
    }
   ],
   "source": [
    "# Compute the p_value\n",
    "p_value = 2 * t.sf(t_null, round(ddof, 0))\n",
    "round(p_value, 3)"
   ]
  },
  {
   "cell_type": "markdown",
   "metadata": {},
   "source": [
    "#### 1. Wilcoxon Rank-Sum"
   ]
  },
  {
   "cell_type": "code",
   "execution_count": 7,
   "metadata": {},
   "outputs": [
    {
     "data": {
      "text/plain": [
       "(15, 20, 270.0, 30.0)"
      ]
     },
     "execution_count": 7,
     "metadata": {},
     "output_type": "execute_result"
    }
   ],
   "source": [
    "# The mean and the std of S_Ranks, under H0: A distribution = B distribution\n",
    "m, n = len(df[df.Sample=='N']), len(df[df.Sample=='S'])\n",
    "mean = m * (m + n + 1) / 2\n",
    "std_ = (n * mean / 6)**0.5\n",
    "m, n, round(mean, 3), round(std_, 3)"
   ]
  },
  {
   "cell_type": "code",
   "execution_count": 8,
   "metadata": {},
   "outputs": [
    {
     "data": {
      "text/plain": [
       "1.96"
      ]
     },
     "execution_count": 8,
     "metadata": {},
     "output_type": "execute_result"
    }
   ],
   "source": [
    "# Set significant level alpha, one tail or two tails.\n",
    "alpha = 0.05\n",
    "two_tails = True\n",
    "\n",
    "# Compute the Z statistic value\n",
    "if two_tails:\n",
    "    Z_alpha = norm.ppf(1 - alpha/2) \n",
    "else:\n",
    "    Z_alpha = norm.ppf(1 - alpha) \n",
    "\n",
    "round(Z_alpha, 3)"
   ]
  },
  {
   "cell_type": "code",
   "execution_count": 9,
   "metadata": {},
   "outputs": [
    {
     "data": {
      "text/plain": [
       "(211.201, 328.799)"
      ]
     },
     "execution_count": 9,
     "metadata": {},
     "output_type": "execute_result"
    }
   ],
   "source": [
    "# Compute the (1 - alpha) * 100% confidence interval\n",
    "ci = (mean - Z_alpha * std_, mean + Z_alpha * std_)\n",
    "round(ci[0], 3), round(ci[1], 3)"
   ]
  },
  {
   "cell_type": "code",
   "execution_count": 10,
   "metadata": {},
   "outputs": [
    {
     "data": {
      "text/plain": [
       "(344.0, 196.0, 2.467)"
      ]
     },
     "execution_count": 10,
     "metadata": {},
     "output_type": "execute_result"
    }
   ],
   "source": [
    "# Compute the Z statistic:\n",
    "rank_sum = df['N_Ranks'].sum()\n",
    "rank_sum = min(rank_sum, m * (m + n + 1) - rank_sum)\n",
    "Z_null = abs(rank_sum - mean) / std_\n",
    "df['N_Ranks'].sum(), rank_sum, round(Z_null, 3)"
   ]
  },
  {
   "cell_type": "code",
   "execution_count": 11,
   "metadata": {},
   "outputs": [
    {
     "name": "stdout",
     "output_type": "stream",
     "text": [
      "The test statistic is statistically significant. H0 should be rejected!\n"
     ]
    }
   ],
   "source": [
    "# Evaluate the rejection of H0\n",
    "if Z_null > Z_alpha:\n",
    "    print('The test statistic is statistically significant. H0 should be rejected!')\n",
    "else:\n",
    "    print('The test statistic is not statistically significant. H0 cannot be rejected!')"
   ]
  },
  {
   "cell_type": "code",
   "execution_count": 12,
   "metadata": {},
   "outputs": [
    {
     "name": "stdout",
     "output_type": "stream",
     "text": [
      "0.014\n"
     ]
    }
   ],
   "source": [
    "p_value = 1 - norm.cdf(Z_null)\n",
    "\n",
    "if two_tails:\n",
    "    print(round(2 * p_value, 3))\n",
    "else:\n",
    "    print(round(p_value, 3))"
   ]
  },
  {
   "cell_type": "code",
   "execution_count": 13,
   "metadata": {},
   "outputs": [
    {
     "name": "stdout",
     "output_type": "stream",
     "text": [
      "0.014\n"
     ]
    }
   ],
   "source": [
    "# Other way to compute the p_value using the survival function of stats\n",
    "p_value = norm.sf(Z_null)\n",
    "\n",
    "if two_tails:\n",
    "    print(round(2 * p_value, 3))\n",
    "else:\n",
    "    print(round(p_value, 3))"
   ]
  },
  {
   "cell_type": "markdown",
   "metadata": {},
   "source": [
    "#### 2. Mann-Whitney U Test"
   ]
  },
  {
   "cell_type": "code",
   "execution_count": 14,
   "metadata": {},
   "outputs": [
    {
     "data": {
      "text/plain": [
       "(150.0, 30.0)"
      ]
     },
     "execution_count": 14,
     "metadata": {},
     "output_type": "execute_result"
    }
   ],
   "source": [
    "# Compute the mean and std of #(Ai > Bj)\n",
    "n, m = len(df[df.Sample=='S']), len(df[df.Sample=='N'])\n",
    "mean = m * n / 2\n",
    "std_ = ((m + n + 1) * mean / 6)**0.5\n",
    "round(mean, 3), round(std_, 3)"
   ]
  },
  {
   "cell_type": "code",
   "execution_count": 15,
   "metadata": {},
   "outputs": [
    {
     "data": {
      "text/plain": [
       "1.96"
      ]
     },
     "execution_count": 15,
     "metadata": {},
     "output_type": "execute_result"
    }
   ],
   "source": [
    "# Set significant level alpha, one tail or two tails.\n",
    "alpha = 0.05\n",
    "two_tails = True\n",
    "\n",
    "# Compute the Z statistic value\n",
    "if two_tails:\n",
    "    Z_alpha = norm.ppf(1 - alpha/2) \n",
    "else:\n",
    "    Z_alpha = norm.ppf(1 - alpha) \n",
    "\n",
    "round(Z_alpha, 3)"
   ]
  },
  {
   "cell_type": "code",
   "execution_count": 16,
   "metadata": {},
   "outputs": [
    {
     "data": {
      "text/plain": [
       "(91.201, 208.799)"
      ]
     },
     "execution_count": 16,
     "metadata": {},
     "output_type": "execute_result"
    }
   ],
   "source": [
    "# Compute the (1 - alpha) * 100% confidence interval\n",
    "ci = (mean - Z_alpha * std_, mean + Z_alpha * std_)\n",
    "round(ci[0], 3), round(ci[1], 3)"
   ]
  },
  {
   "cell_type": "code",
   "execution_count": 17,
   "metadata": {},
   "outputs": [
    {
     "data": {
      "text/plain": [
       "(220, 2.333)"
      ]
     },
     "execution_count": 17,
     "metadata": {},
     "output_type": "execute_result"
    }
   ],
   "source": [
    "# Asumme H0 is true, hence the Z statistic:\n",
    "U_sum = df['#(Ni > Sj)'].sum()\n",
    "Z_null = abs(U_sum - mean) / std_\n",
    "U_sum, round(Z_null, 3)"
   ]
  },
  {
   "cell_type": "code",
   "execution_count": 18,
   "metadata": {},
   "outputs": [
    {
     "name": "stdout",
     "output_type": "stream",
     "text": [
      "The test statistic is statistically significant. H0 should be rejected!\n"
     ]
    }
   ],
   "source": [
    "# Evaluate the rejection of H0\n",
    "if Z_null > Z_alpha:\n",
    "    print('The test statistic is statistically significant. H0 should be rejected!')\n",
    "else:\n",
    "    print('The test statistic is not statistically significant. H0 cannot be rejected!')"
   ]
  },
  {
   "cell_type": "code",
   "execution_count": 19,
   "metadata": {},
   "outputs": [
    {
     "name": "stdout",
     "output_type": "stream",
     "text": [
      "0.02\n"
     ]
    }
   ],
   "source": [
    "p_value = 1 - norm.cdf(Z_null)\n",
    "\n",
    "if two_tails:\n",
    "    print(round(2 * p_value, 3))\n",
    "else:\n",
    "    print(round(p_value, 3))"
   ]
  },
  {
   "cell_type": "code",
   "execution_count": 20,
   "metadata": {},
   "outputs": [
    {
     "name": "stdout",
     "output_type": "stream",
     "text": [
      "0.02\n"
     ]
    }
   ],
   "source": [
    "# Other way to compute the p_value using the survival function of stats\n",
    "p_value = norm.sf(Z_null)\n",
    "\n",
    "if two_tails:\n",
    "    print(round(2 * p_value, 3))\n",
    "else:\n",
    "    print(round(p_value, 3))"
   ]
  },
  {
   "cell_type": "code",
   "execution_count": null,
   "metadata": {},
   "outputs": [],
   "source": []
  }
 ],
 "metadata": {
  "kernelspec": {
   "display_name": "Python 3",
   "language": "python",
   "name": "python3"
  },
  "language_info": {
   "codemirror_mode": {
    "name": "ipython",
    "version": 3
   },
   "file_extension": ".py",
   "mimetype": "text/x-python",
   "name": "python",
   "nbconvert_exporter": "python",
   "pygments_lexer": "ipython3",
   "version": "3.7.7"
  }
 },
 "nbformat": 4,
 "nbformat_minor": 4
}
