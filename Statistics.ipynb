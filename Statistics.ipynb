{
 "cells": [
  {
   "cell_type": "markdown",
   "metadata": {},
   "source": [
    "### Mean, Median, Mode\n",
    "#### Task 1.1\n",
    "Given an array, , of  integers, calculate and print the respective mean, median, and mode on separate lines. If your array contains more than one modal value, choose the numerically smallest one.\n",
    "\n",
    "#### Note: \n",
    "Other than the modal value (which will always be an integer), your answers should be in decimal form, rounded to a scale of  decimal place (i.e., ,  format)."
   ]
  },
  {
   "cell_type": "code",
   "execution_count": 1,
   "metadata": {},
   "outputs": [
    {
     "name": "stdout",
     "output_type": "stream",
     "text": [
      "43900.6\n",
      "44627.5\n",
      "4978\n"
     ]
    }
   ],
   "source": [
    "import pandas as pd\n",
    "\n",
    "n, X = 10, [64630,11735,14216,99233,14470,4978,73429,38120,51135,67060]\n",
    "\n",
    "s = pd.Series(X)\n",
    "print(round(s.mean(), 1))\n",
    "print(round(s.median(), 1))\n",
    "print(s.mode()[0])"
   ]
  },
  {
   "cell_type": "markdown",
   "metadata": {},
   "source": [
    "### Weighted Mean\n",
    "#### Task 1.2\n",
    "Given an array, X, of n integers and an array, W, representing the respective weights of 's elements, calculate and print the weighted mean of 's elements. Your answer should be rounded to a scale of  decimal place (i.e.,  format).\n",
    "\n",
    "#### Input Format\n",
    "\n",
    "The first line contains an integer, n, denoting the number of elements in arrays X and W.\n",
    "The second line contains  space-separated integers describing the respective elements of array X.   \n",
    "The third line contains  space-separated integers describing the respective elements of array W."
   ]
  },
  {
   "cell_type": "code",
   "execution_count": 2,
   "metadata": {},
   "outputs": [
    {
     "name": "stdout",
     "output_type": "stream",
     "text": [
      "36.7\n"
     ]
    }
   ],
   "source": [
    "n, X, W = 5, range(10, 60, 10), range(1, 6)\n",
    "\n",
    "X_product_W = [x * w for x, w in zip(X, W)]\n",
    "\n",
    "print(round((sum(X_product_W) / sum(W)), 1))"
   ]
  },
  {
   "cell_type": "markdown",
   "metadata": {},
   "source": [
    "### Quartiles\n",
    "#### Task 2.1\n",
    "Given an array, X, of n integers, calculate the respective first quartile (Q1), second quartile (Q2), and third quartile (Q3). \n",
    "\n",
    "#### Input Format\n",
    "\n",
    "The first line contains an integer, n, denoting the number of elements in the array.\n",
    "The second line contains n space-separated integers describing the array's elements."
   ]
  },
  {
   "cell_type": "code",
   "execution_count": 3,
   "metadata": {},
   "outputs": [
    {
     "name": "stdout",
     "output_type": "stream",
     "text": [
      "6\n",
      "12\n",
      "16\n"
     ]
    }
   ],
   "source": [
    "def median(X):\n",
    "    n = len(X)\n",
    "    l, r = (n - 1)//2, (n - 1)//2 + (n - 1) % 2\n",
    "    return int((X[l] + X[r])/2)\n",
    "\n",
    "n, X = 9, [3, 7, 8, 5, 12, 14, 21, 13, 18]\n",
    "\n",
    "X = sorted(X) \n",
    "m = (n - 1)//2 + (n - 1) % 2\n",
    "\n",
    "print(median(X[:m]))\n",
    "print(median(X))\n",
    "print(median(X[-m:]))"
   ]
  },
  {
   "cell_type": "markdown",
   "metadata": {},
   "source": [
    "### Inter-Quartile Range\n",
    "#### Task 2.2\n",
    "The interquartile range of an array is the difference between its first (Q1) and third (Q3) quartiles (i.e., ).    \n",
    "\n",
    "Given an array, X, of n integers and an array, F, representing the respective frequencies of 's elements, construct a data set, S, where each Xi occurs at frequency Fi. Then calculate and print S's interquartile range, rounded to a scale of  decimal place (i.e.,  format)."
   ]
  },
  {
   "cell_type": "code",
   "execution_count": 4,
   "metadata": {},
   "outputs": [
    {
     "name": "stdout",
     "output_type": "stream",
     "text": [
      "9.0\n"
     ]
    }
   ],
   "source": [
    "def median(X):\n",
    "    n = len(X)\n",
    "    l, r = (n - 1)//2, (n - 1)//2 + (n - 1) % 2\n",
    "    return (X[l] + X[r]) / 2\n",
    "\n",
    "n, X, F = 6, [6, 12, 8, 10, 20, 16], [5, 4, 3, 2, 1, 5]\n",
    "L = []\n",
    "\n",
    "for x, f in zip(X, F):\n",
    "    l = [x] * f\n",
    "    L.extend(l)\n",
    "\n",
    "L = sorted(L)\n",
    "m = (len(L) - 1)//2 + (len(L) - 1) % 2\n",
    "\n",
    "print(round(median(L[-m:]) - median(L[:m]), 1))"
   ]
  },
  {
   "cell_type": "markdown",
   "metadata": {},
   "source": [
    "### Standard Deviation\n",
    "#### Task\n",
    "Given an array, X, of n integers, calculate and print the standard deviation. Your answer should be in decimal form, rounded to a scale of  decimal place (i.e.,  format). An error margin of  will be tolerated for the standard deviation.\n",
    "\n",
    "#### Input Format\n",
    "\n",
    "The first line contains an integer, n, denoting the number of elements in the array.\n",
    "The second line contains n space-separated integers describing the respective elements of the array."
   ]
  },
  {
   "cell_type": "code",
   "execution_count": 3,
   "metadata": {},
   "outputs": [
    {
     "name": "stdout",
     "output_type": "stream",
     "text": [
      "6.0\n",
      "1.9\n"
     ]
    }
   ],
   "source": [
    "n, X = 8, [2, 5, 8, 8, 7, 6, 5, 7]\n",
    "\n",
    "mean = sum(X) / n\n",
    "mean_squared_errors = [((x - mean)**2)/n for x in X]\n",
    "variance = sum(mean_squared_errors)\n",
    "\n",
    "print(mean)\n",
    "print(round(variance**.5, 1))"
   ]
  },
  {
   "cell_type": "markdown",
   "metadata": {},
   "source": [
    "### Binomial Probability Distribution\n",
    "#### Task\n",
    "The ratio of boys to girls for babies born in Russia is 1.09: 1. If there is 1 child born per birth, what proportion of Russian families with exactly 6 children will have at least 3 boys?      \n",
    "\n",
    "Write a program to compute the answer using the above parameters.   \n",
    "Then print your result, rounded to a scale of  decimal places (i.e.,  format)."
   ]
  },
  {
   "cell_type": "code",
   "execution_count": 6,
   "metadata": {},
   "outputs": [
    {
     "name": "stdout",
     "output_type": "stream",
     "text": [
      "0.696\n"
     ]
    }
   ],
   "source": [
    "from functools import reduce\n",
    "def C(n, k):\n",
    "    if n == k:\n",
    "        return 1\n",
    "    numerator__ = reduce(lambda x, y: x * y, range(k + 1, n + 1))\n",
    "    denominator = reduce(lambda x, y: x * y, range(1, n - k + 1)) \n",
    "    return numerator__ / denominator\n",
    "\n",
    "def binomial_pmf(n, k, p):\n",
    "    return [C(n, i) * (p**i) * ((1 -p)**(n - i)) for i in range(k, n + 1)]\n",
    "\n",
    "n, k, p = 6, 3, 109/209\n",
    "pmf = binomial_pmf(n, k, p)\n",
    "print(round(sum(pmf), 3))"
   ]
  },
  {
   "cell_type": "markdown",
   "metadata": {},
   "source": [
    "#### Task\n",
    "A manufacturer of metal pistons finds that, on average 12% of the pistons they manufacture are rejected because they are incorrectly sized. What is the probability that a batch of 10 pistons will contain:\n",
    "\n",
    "No more than 2 rejects?\n",
    "At least 2 rejects?"
   ]
  },
  {
   "cell_type": "code",
   "execution_count": 7,
   "metadata": {},
   "outputs": [
    {
     "name": "stdout",
     "output_type": "stream",
     "text": [
      "0.891\n",
      "0.342\n"
     ]
    }
   ],
   "source": [
    "from functools import reduce\n",
    "def C(n, k):\n",
    "    if n == k:\n",
    "        return 1\n",
    "    numerator__ = reduce(lambda x, y: x * y, range(k + 1, n + 1))\n",
    "    denominator = reduce(lambda x, y: x * y, range(1, n - k + 1)) \n",
    "    return numerator__ / denominator\n",
    "\n",
    "def binomial_pmf(n, k, p):\n",
    "    return [C(n, i) * (p**i) * ((1 - p)**(n - i)) for i in range(k, n + 1)]\n",
    "\n",
    "n, p = 10, .12\n",
    "pmf_2 = binomial_pmf(n, 2, p)\n",
    "pmf_1 = pmf_2[1:]\n",
    "print(round(1 - sum(pmf_1), 3))\n",
    "print(round(sum(pmf_2), 3))"
   ]
  },
  {
   "cell_type": "markdown",
   "metadata": {},
   "source": [
    "### Geometric Probability Distribution\n",
    "#### Task\n",
    "The probability that a machine produces a defective product is 1/3 .   \n",
    "What is the probability that the first defect is found during the 5th inspection?"
   ]
  },
  {
   "cell_type": "code",
   "execution_count": 8,
   "metadata": {},
   "outputs": [
    {
     "name": "stdout",
     "output_type": "stream",
     "text": [
      "0.066\n"
     ]
    }
   ],
   "source": [
    "def geometric_pdf_v1(n, p):\n",
    "    return ((1 - p)**(n - 1)) * p\n",
    "\n",
    "print(round(geometric_pdf_v1(5, 1/3), 3))"
   ]
  },
  {
   "cell_type": "markdown",
   "metadata": {},
   "source": [
    "#### Task\n",
    "The probability that a machine produces a defective product is 1/3.  \n",
    "What is the probability that the  defect is found during the first 5 inspections?"
   ]
  },
  {
   "cell_type": "code",
   "execution_count": 9,
   "metadata": {},
   "outputs": [
    {
     "name": "stdout",
     "output_type": "stream",
     "text": [
      "0.868\n"
     ]
    }
   ],
   "source": [
    "def geometric_pdf_v2(n, p):\n",
    "    geometric_series = [(1 - p)**k for k in range(n)]\n",
    "    return p * sum(geometric_series)\n",
    "\n",
    "print(round(geometric_pdf_v2(5, 1/3), 3))"
   ]
  },
  {
   "cell_type": "markdown",
   "metadata": {},
   "source": [
    "### Poisson Probability Distribution\n",
    "#### Task\n",
    "A random variable X, follows Poisson distribution with mean of 2.5 . Find the probability with which the random variable  is equal to 5."
   ]
  },
  {
   "cell_type": "code",
   "execution_count": 10,
   "metadata": {},
   "outputs": [
    {
     "name": "stdout",
     "output_type": "stream",
     "text": [
      "0.0668\n"
     ]
    }
   ],
   "source": [
    "from math import factorial as F\n",
    "from math import exp as E\n",
    "\n",
    "def poisson_proba(expected_value, k):\n",
    "    return (expected_value ** k) * (E(-1 * expected_value)) / F(k)\n",
    "\n",
    "print(round(poisson_proba(2.5, 5), 4))"
   ]
  },
  {
   "cell_type": "markdown",
   "metadata": {},
   "source": [
    "#### Task\n",
    "The manager of a industrial plant is planning to buy a machine of either type A or type B. For each day’s operation:   \n",
    "\n",
    "The number of repairs X, that machine  needs is a Poisson random variable with mean .88.    \n",
    "The daily cost of operating A is CA = 160 + 40X^2.    \n",
    "\n",
    "The number of repairs Y, that machine B needs is a Poisson random variable with mean 1.55.   \n",
    "The daily cost of operating B is CB = 128 + 40Y^2.   \n",
    "\n",
    "Assume that the repairs take a negligible amount of time and the machines are maintained nightly to ensure that they operate like new at the start of each day.   \n",
    "\n",
    "Find and print the expected daily cost for each machine."
   ]
  },
  {
   "cell_type": "code",
   "execution_count": 11,
   "metadata": {},
   "outputs": [
    {
     "name": "stdout",
     "output_type": "stream",
     "text": [
      "226.176\n",
      "286.1\n"
     ]
    }
   ],
   "source": [
    "# E(C) = E(a + bX^2) = E(a) + E(bX^2) = a + bE(X^2) \n",
    "# E(C) = a + b(mean + mean^2)\n",
    "\n",
    "mean_1, mean_2 = .88, 1.55\n",
    "a1, a2, b = 160, 128, 40\n",
    "print(round(a1 + b * (mean_1 + mean_1**2), 3))\n",
    "print(round(a2 + b * (mean_2 + mean_2**2), 3))"
   ]
  },
  {
   "cell_type": "markdown",
   "metadata": {},
   "source": [
    "### Normal Distribution\n",
    "#### Task\n",
    "In a certain plant, the time taken to assemble a car is a random variable, X, having a normal distribution with a mean of 20 hours and a standard deviation of 2 hours.   \n",
    "\n",
    "What is the probability that a car can be assembled at this plant in:\n",
    "Less than 19.5 hours?\n",
    "Between 20 and 22 hours?"
   ]
  },
  {
   "cell_type": "code",
   "execution_count": 12,
   "metadata": {},
   "outputs": [
    {
     "name": "stdout",
     "output_type": "stream",
     "text": [
      "0.401\n",
      "0.341\n"
     ]
    }
   ],
   "source": [
    "from scipy.stats import norm\n",
    "mean, std = 20, 2\n",
    "norm_dist = norm(mean, std)\n",
    "print(round(norm_dist.cdf(19.5), 3))\n",
    "print(round((norm_dist.cdf(22) - norm_dist.cdf(20)), 3))"
   ]
  },
  {
   "cell_type": "code",
   "execution_count": 13,
   "metadata": {},
   "outputs": [
    {
     "name": "stdout",
     "output_type": "stream",
     "text": [
      "0.401\n",
      "0.341\n"
     ]
    }
   ],
   "source": [
    "from math import erf\n",
    "mean, std = 20, 2\n",
    "cdf = lambda x: .5 + .5 * erf((x - mean)/2**.5/std)\n",
    "print(round(cdf(19.5), 3))\n",
    "print(round(cdf(22) - cdf(20), 3))"
   ]
  },
  {
   "cell_type": "markdown",
   "metadata": {},
   "source": [
    "#### Task\n",
    "The final grades for a Physics exam taken by a large group of students have a mean of 70 and a standard deviation of 10.    \n",
    "If we can approximate the distribution of these grades by a normal distribution, what percentage of the students:\n",
    "\n",
    "Scored higher than  80?   \n",
    "Passed the test scoring higher than 60?   \n",
    "Failed the test scoring lower than 60?   \n",
    "Find and print the answer to each question on a new line, rounded to a scale of 2 decimal places."
   ]
  },
  {
   "cell_type": "code",
   "execution_count": 14,
   "metadata": {},
   "outputs": [
    {
     "name": "stdout",
     "output_type": "stream",
     "text": [
      "15.87\n",
      "84.13\n",
      "15.87\n"
     ]
    }
   ],
   "source": [
    "from scipy.stats import norm\n",
    "mean, std = 70, 10\n",
    "norm_dist = norm(mean, std)\n",
    "print(round((1 - norm_dist.cdf(80)) * 100, 2))\n",
    "print(round((1 - norm_dist.cdf(60)) * 100, 2))\n",
    "print(round(norm_dist.cdf(60) * 100, 2))"
   ]
  },
  {
   "cell_type": "code",
   "execution_count": 15,
   "metadata": {},
   "outputs": [
    {
     "name": "stdout",
     "output_type": "stream",
     "text": [
      "15.87\n",
      "84.13\n",
      "15.87\n"
     ]
    }
   ],
   "source": [
    "from math import erf\n",
    "mean, std = 70, 10\n",
    "cdf = lambda x: .5 + .5 * erf((x - mean)/2**.5/std)\n",
    "\n",
    "print(round((1 - cdf(80)) * 100, 2))\n",
    "print(round((1 - cdf(60)) * 100, 2))\n",
    "print(round(cdf(60) * 100, 2))"
   ]
  },
  {
   "cell_type": "markdown",
   "metadata": {},
   "source": [
    "### Central Limit Theorem\n",
    "#### Task\n",
    "A large elevator can transport a maximum of 9800 pounds. Suppose a load of cargo containing 49 boxes must be transported via the elevator.   \n",
    "\n",
    "The box weight of this type of cargo follows a distribution with a mean of 205 pounds and a standard deviation of 15 pounds.  \n",
    "\n",
    "Based on this information, what is the probability that all  boxes can be safely loaded into the freight elevator and transported?"
   ]
  },
  {
   "cell_type": "code",
   "execution_count": 16,
   "metadata": {},
   "outputs": [
    {
     "name": "stdout",
     "output_type": "stream",
     "text": [
      "0.0098\n"
     ]
    }
   ],
   "source": [
    "from scipy.stats import norm\n",
    "mean, std= 205, 15\n",
    "n_samples, sample = 49, 9800\n",
    "sample_mean, sample_std = n_samples * mean, std * (n_samples**.5)\n",
    "\n",
    "norm_dist = norm(sample_mean, sample_std)\n",
    "print(round(norm_dist.cdf(sample), 4))"
   ]
  },
  {
   "cell_type": "code",
   "execution_count": 17,
   "metadata": {},
   "outputs": [
    {
     "name": "stdout",
     "output_type": "stream",
     "text": [
      "0.0098\n"
     ]
    }
   ],
   "source": [
    "from math import erf\n",
    "\n",
    "mean, std= 205, 15\n",
    "n_samples, sample = 49, 9800\n",
    "sample_mean, sample_std = n_samples * mean, std * (n_samples**.5)\n",
    "\n",
    "cdf = lambda x: .5 + .5 * erf((x - sample_mean)/2**.5/sample_std)\n",
    "print(round(cdf(sample), 4))"
   ]
  },
  {
   "cell_type": "markdown",
   "metadata": {},
   "source": [
    "#### Task\n",
    "The number of tickets purchased by each student for the University X vs. University Y football game follows a distribution that has a mean of 2.4 and a standard deviation of 2.0.\n",
    "\n",
    "A few hours before the game starts, 100 eager students line up to purchase last-minute tickets. If there are only 250 tickets left, what is the probability that all 100 students will be able to purchase tickets?"
   ]
  },
  {
   "cell_type": "code",
   "execution_count": 18,
   "metadata": {},
   "outputs": [
    {
     "name": "stdout",
     "output_type": "stream",
     "text": [
      "0.6915\n"
     ]
    }
   ],
   "source": [
    "from scipy.stats import norm\n",
    "\n",
    "mean, std, n_samples, samples = 2.4, 2.0, 100, 250\n",
    "sample_mean, sample_std = n_samples * mean, (n_samples**.5) * std\n",
    "\n",
    "norm_dist = norm(sample_mean, sample_std)\n",
    "print(round(norm_dist.cdf(samples), 4))"
   ]
  },
  {
   "cell_type": "code",
   "execution_count": 19,
   "metadata": {},
   "outputs": [
    {
     "name": "stdout",
     "output_type": "stream",
     "text": [
      "0.6915\n"
     ]
    }
   ],
   "source": [
    "from math import erf\n",
    "\n",
    "mean, std, n_samples, sample = 2.4, 2.0, 100, 250\n",
    "sample_mean, sample_std = n_samples * mean, (n_samples**.5) * std\n",
    "\n",
    "cdf = lambda x: .5 + .5 * erf((x - sample_mean)/2**.5/sample_std)\n",
    "print(round(cdf(sample), 4))"
   ]
  },
  {
   "cell_type": "markdown",
   "metadata": {},
   "source": [
    "#### Task\n",
    "You have a sample of 100 values from a population with mean 500 and with standard deviation 80.   \n",
    "Compute the interval that covers the middle 95% of the distribution of the sample mean; in other words, compute A and B  such that:  \n",
    "P(A < x < B).   \n",
    "Use the value of Z = 1.96. Note that  is the z-score."
   ]
  },
  {
   "cell_type": "code",
   "execution_count": 20,
   "metadata": {},
   "outputs": [
    {
     "name": "stdout",
     "output_type": "stream",
     "text": [
      "484.32\n",
      "515.68\n"
     ]
    }
   ],
   "source": [
    "mean, std, n_samples, z = 500, 80, 100, 1.96\n",
    "\n",
    "sample_std = std / (n_samples**.5)\n",
    "\n",
    "print(round(mean - z * sample_std, 2))\n",
    "print(round(mean + z * sample_std, 2))"
   ]
  },
  {
   "cell_type": "markdown",
   "metadata": {},
   "source": [
    "### Pearson Correlation Coefficient\n",
    "#### Task\n",
    "Given two -element data sets,  and , calculate the value of the Pearson correlation coefficient.   \n",
    "\n",
    "Input Format     \n",
    "The first line contains an integer n, denoting the size of data sets X and Y.   \n",
    "The second line contains n space-separated real numbers (scaled to at most one decimal place), defining data set X.    \n",
    "The third line contains n space-separated real numbers (scaled to at most one decimal place), defining data set Y.  \n",
    "\n",
    "Output Format   \n",
    "Print the value of the Pearson correlation coefficient, rounded to a scale of  decimal 3 places."
   ]
  },
  {
   "cell_type": "code",
   "execution_count": 21,
   "metadata": {},
   "outputs": [
    {
     "name": "stdout",
     "output_type": "stream",
     "text": [
      "0.612\n"
     ]
    }
   ],
   "source": [
    "n = 10\n",
    "X = [10, 9.8, 8, 7.8, 7.7, 7, 6, 5, 4, 2]\n",
    "Y = [200, 44, 32, 24, 22, 17, 15, 12, 8, 4]\n",
    "\n",
    "mean_X, mean_Y = sum(X)/n, sum(Y)/n\n",
    "std_X = (sum((x - mean_X)**2 / n for x in X))**.5\n",
    "std_Y = (sum((y - mean_Y)**2 / n for y in Y))**.5\n",
    "\n",
    "pearson_score = sum((x - mean_X) * (y - mean_Y) / n for x, y in zip(X, Y)) / std_X / std_Y\n",
    "\n",
    "print(round(pearson_score, 3))"
   ]
  },
  {
   "cell_type": "markdown",
   "metadata": {},
   "source": [
    "### Spearman's Rank Correlation Coefficient\n",
    "Given two -element data sets,  and , calculate the value of the Spearman's Rank correlation coefficient.   \n",
    "\n",
    "Input Format     \n",
    "The first line contains an integer n, denoting the size of data sets X and Y.   \n",
    "The second line contains n space-separated real numbers (scaled to at most one decimal place), defining data set X.    \n",
    "The third line contains n space-separated real numbers (scaled to at most one decimal place), defining data set Y.  \n",
    "\n",
    "Output Format   \n",
    "Print the value of the Pearson correlation coefficient, rounded to a scale of  decimal 3 places.\n"
   ]
  },
  {
   "cell_type": "code",
   "execution_count": 22,
   "metadata": {},
   "outputs": [
    {
     "name": "stdout",
     "output_type": "stream",
     "text": [
      "0.903\n"
     ]
    }
   ],
   "source": [
    "n = 10\n",
    "X = [10, 9.8, 8, 7.8, 7.7, 1.7, 6, 5, 1.4, 2]\n",
    "Y = [200, 44, 32, 24, 22, 17, 15, 12, 8, 4]\n",
    "X_sorted, Y_sorted = sorted(X), sorted(Y)\n",
    "\n",
    "D = sum((X_sorted.index(x) - Y_sorted.index(y))**2 for x, y in zip(X, Y)) \n",
    "spearman_score = 1 - 6 * D / n / (n**2 - 1)\n",
    "print(round(spearman_score, 3))"
   ]
  },
  {
   "cell_type": "markdown",
   "metadata": {},
   "source": [
    "### Least Square Regression Line"
   ]
  },
  {
   "cell_type": "code",
   "execution_count": 23,
   "metadata": {},
   "outputs": [
    {
     "name": "stdout",
     "output_type": "stream",
     "text": [
      "78.288\n"
     ]
    }
   ],
   "source": [
    "from sklearn.linear_model import LinearRegression\n",
    "import numpy as np\n",
    "X = [95, 85, 80, 70, 60] \n",
    "Y = [85, 95, 70, 65, 70]\n",
    "x_test = 80\n",
    "n = len(X)\n",
    "\n",
    "model = LinearRegression()\n",
    "model.fit(np.array(X).reshape(-1, 1), np.array(Y))\n",
    "\n",
    "y_test = model.coef_[0] * x_test + model.intercept_\n",
    "print(round(y_test, 3))"
   ]
  },
  {
   "cell_type": "code",
   "execution_count": 24,
   "metadata": {},
   "outputs": [
    {
     "name": "stdout",
     "output_type": "stream",
     "text": [
      "78.288\n"
     ]
    }
   ],
   "source": [
    "sum_xy = sum(x * y for x, y in zip(X, Y))\n",
    "sum_xx = sum(x**2 for x in X)\n",
    "sum_yy = sum(y**2 for y in Y)\n",
    "a = (n * sum_xy - sum(X) * sum(Y)) / (n * sum_xx - sum(X)**2)\n",
    "b = sum(Y) / n - a * sum(X) / n\n",
    "print(round(a * x_test + b, 3))"
   ]
  },
  {
   "cell_type": "markdown",
   "metadata": {},
   "source": [
    "### Multiple Linear Regression"
   ]
  },
  {
   "cell_type": "code",
   "execution_count": null,
   "metadata": {},
   "outputs": [],
   "source": [
    "import pandas as pd\n",
    "from sklearn.linear_model import LinearRegression as LR\n",
    "\n",
    "dim_train = [int(x) for x in input().split()]\n",
    "M = []\n",
    "for x in range(dim_train[1]):\n",
    "    M.append([float(x) for x in input().split()])\n",
    "df_train = pd.DataFrame(M)\n",
    "\n",
    "n_preds = int(input())\n",
    "M = []\n",
    "for x in range(n_preds):\n",
    "    M.append([float(x) for x in input().split()])\n",
    "df_pred = pd.DataFrame(M)\n",
    "\n",
    "X_train, y_train = df_train.iloc[:, :dim_train[0]], df_train.iloc[:, dim_train[0]]\n",
    "model = LR().fit(X_train, y_train)\n",
    "y_preds = model.predict(df_pred)\n",
    "\n",
    "for y in y_preds:\n",
    "    print(round(y, 2))"
   ]
  }
 ],
 "metadata": {
  "kernelspec": {
   "display_name": "Python 3",
   "language": "python",
   "name": "python3"
  },
  "language_info": {
   "codemirror_mode": {
    "name": "ipython",
    "version": 3
   },
   "file_extension": ".py",
   "mimetype": "text/x-python",
   "name": "python",
   "nbconvert_exporter": "python",
   "pygments_lexer": "ipython3",
   "version": "3.7.7"
  }
 },
 "nbformat": 4,
 "nbformat_minor": 4
}
