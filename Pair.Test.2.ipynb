{
 "cells": [
  {
   "cell_type": "code",
   "execution_count": 1,
   "metadata": {},
   "outputs": [
    {
     "data": {
      "text/html": [
       "<div>\n",
       "<style scoped>\n",
       "    .dataframe tbody tr th:only-of-type {\n",
       "        vertical-align: middle;\n",
       "    }\n",
       "\n",
       "    .dataframe tbody tr th {\n",
       "        vertical-align: top;\n",
       "    }\n",
       "\n",
       "    .dataframe thead th {\n",
       "        text-align: right;\n",
       "    }\n",
       "</style>\n",
       "<table border=\"1\" class=\"dataframe\">\n",
       "  <thead>\n",
       "    <tr style=\"text-align: right;\">\n",
       "      <th></th>\n",
       "      <th>R</th>\n",
       "      <th>L</th>\n",
       "      <th>Diff</th>\n",
       "      <th>Sign</th>\n",
       "      <th>Rank</th>\n",
       "    </tr>\n",
       "  </thead>\n",
       "  <tbody>\n",
       "    <tr>\n",
       "      <th>0</th>\n",
       "      <td>113</td>\n",
       "      <td>137</td>\n",
       "      <td>-24</td>\n",
       "      <td>-1</td>\n",
       "      <td>-15.0</td>\n",
       "    </tr>\n",
       "    <tr>\n",
       "      <th>1</th>\n",
       "      <td>130</td>\n",
       "      <td>133</td>\n",
       "      <td>-3</td>\n",
       "      <td>-1</td>\n",
       "      <td>-3.5</td>\n",
       "    </tr>\n",
       "    <tr>\n",
       "      <th>2</th>\n",
       "      <td>101</td>\n",
       "      <td>108</td>\n",
       "      <td>-7</td>\n",
       "      <td>-1</td>\n",
       "      <td>-6.0</td>\n",
       "    </tr>\n",
       "    <tr>\n",
       "      <th>3</th>\n",
       "      <td>138</td>\n",
       "      <td>115</td>\n",
       "      <td>23</td>\n",
       "      <td>1</td>\n",
       "      <td>14.0</td>\n",
       "    </tr>\n",
       "    <tr>\n",
       "      <th>4</th>\n",
       "      <td>118</td>\n",
       "      <td>170</td>\n",
       "      <td>-52</td>\n",
       "      <td>-1</td>\n",
       "      <td>-24.0</td>\n",
       "    </tr>\n",
       "    <tr>\n",
       "      <th>5</th>\n",
       "      <td>87</td>\n",
       "      <td>103</td>\n",
       "      <td>-16</td>\n",
       "      <td>-1</td>\n",
       "      <td>-11.0</td>\n",
       "    </tr>\n",
       "    <tr>\n",
       "      <th>6</th>\n",
       "      <td>116</td>\n",
       "      <td>145</td>\n",
       "      <td>-29</td>\n",
       "      <td>-1</td>\n",
       "      <td>-16.0</td>\n",
       "    </tr>\n",
       "    <tr>\n",
       "      <th>7</th>\n",
       "      <td>75</td>\n",
       "      <td>78</td>\n",
       "      <td>-3</td>\n",
       "      <td>-1</td>\n",
       "      <td>-3.5</td>\n",
       "    </tr>\n",
       "    <tr>\n",
       "      <th>8</th>\n",
       "      <td>96</td>\n",
       "      <td>107</td>\n",
       "      <td>-11</td>\n",
       "      <td>-1</td>\n",
       "      <td>-7.5</td>\n",
       "    </tr>\n",
       "    <tr>\n",
       "      <th>9</th>\n",
       "      <td>122</td>\n",
       "      <td>84</td>\n",
       "      <td>38</td>\n",
       "      <td>1</td>\n",
       "      <td>20.0</td>\n",
       "    </tr>\n",
       "    <tr>\n",
       "      <th>10</th>\n",
       "      <td>103</td>\n",
       "      <td>148</td>\n",
       "      <td>-45</td>\n",
       "      <td>-1</td>\n",
       "      <td>-22.0</td>\n",
       "    </tr>\n",
       "    <tr>\n",
       "      <th>11</th>\n",
       "      <td>116</td>\n",
       "      <td>147</td>\n",
       "      <td>-31</td>\n",
       "      <td>-1</td>\n",
       "      <td>-17.5</td>\n",
       "    </tr>\n",
       "    <tr>\n",
       "      <th>12</th>\n",
       "      <td>107</td>\n",
       "      <td>87</td>\n",
       "      <td>20</td>\n",
       "      <td>1</td>\n",
       "      <td>13.0</td>\n",
       "    </tr>\n",
       "    <tr>\n",
       "      <th>13</th>\n",
       "      <td>118</td>\n",
       "      <td>166</td>\n",
       "      <td>-48</td>\n",
       "      <td>-1</td>\n",
       "      <td>-23.0</td>\n",
       "    </tr>\n",
       "    <tr>\n",
       "      <th>14</th>\n",
       "      <td>103</td>\n",
       "      <td>146</td>\n",
       "      <td>-43</td>\n",
       "      <td>-1</td>\n",
       "      <td>-21.0</td>\n",
       "    </tr>\n",
       "    <tr>\n",
       "      <th>15</th>\n",
       "      <td>111</td>\n",
       "      <td>123</td>\n",
       "      <td>-12</td>\n",
       "      <td>-1</td>\n",
       "      <td>-9.0</td>\n",
       "    </tr>\n",
       "    <tr>\n",
       "      <th>16</th>\n",
       "      <td>104</td>\n",
       "      <td>135</td>\n",
       "      <td>-31</td>\n",
       "      <td>-1</td>\n",
       "      <td>-17.5</td>\n",
       "    </tr>\n",
       "    <tr>\n",
       "      <th>17</th>\n",
       "      <td>111</td>\n",
       "      <td>112</td>\n",
       "      <td>-1</td>\n",
       "      <td>-1</td>\n",
       "      <td>-1.0</td>\n",
       "    </tr>\n",
       "    <tr>\n",
       "      <th>18</th>\n",
       "      <td>89</td>\n",
       "      <td>93</td>\n",
       "      <td>-4</td>\n",
       "      <td>-1</td>\n",
       "      <td>-5.0</td>\n",
       "    </tr>\n",
       "    <tr>\n",
       "      <th>19</th>\n",
       "      <td>78</td>\n",
       "      <td>76</td>\n",
       "      <td>2</td>\n",
       "      <td>1</td>\n",
       "      <td>2.0</td>\n",
       "    </tr>\n",
       "    <tr>\n",
       "      <th>20</th>\n",
       "      <td>100</td>\n",
       "      <td>116</td>\n",
       "      <td>-16</td>\n",
       "      <td>-1</td>\n",
       "      <td>-11.0</td>\n",
       "    </tr>\n",
       "    <tr>\n",
       "      <th>21</th>\n",
       "      <td>89</td>\n",
       "      <td>78</td>\n",
       "      <td>11</td>\n",
       "      <td>1</td>\n",
       "      <td>7.5</td>\n",
       "    </tr>\n",
       "    <tr>\n",
       "      <th>22</th>\n",
       "      <td>85</td>\n",
       "      <td>101</td>\n",
       "      <td>-16</td>\n",
       "      <td>-1</td>\n",
       "      <td>-11.0</td>\n",
       "    </tr>\n",
       "    <tr>\n",
       "      <th>23</th>\n",
       "      <td>88</td>\n",
       "      <td>123</td>\n",
       "      <td>-35</td>\n",
       "      <td>-1</td>\n",
       "      <td>-19.0</td>\n",
       "    </tr>\n",
       "  </tbody>\n",
       "</table>\n",
       "</div>"
      ],
      "text/plain": [
       "      R    L  Diff  Sign  Rank\n",
       "0   113  137   -24    -1 -15.0\n",
       "1   130  133    -3    -1  -3.5\n",
       "2   101  108    -7    -1  -6.0\n",
       "3   138  115    23     1  14.0\n",
       "4   118  170   -52    -1 -24.0\n",
       "5    87  103   -16    -1 -11.0\n",
       "6   116  145   -29    -1 -16.0\n",
       "7    75   78    -3    -1  -3.5\n",
       "8    96  107   -11    -1  -7.5\n",
       "9   122   84    38     1  20.0\n",
       "10  103  148   -45    -1 -22.0\n",
       "11  116  147   -31    -1 -17.5\n",
       "12  107   87    20     1  13.0\n",
       "13  118  166   -48    -1 -23.0\n",
       "14  103  146   -43    -1 -21.0\n",
       "15  111  123   -12    -1  -9.0\n",
       "16  104  135   -31    -1 -17.5\n",
       "17  111  112    -1    -1  -1.0\n",
       "18   89   93    -4    -1  -5.0\n",
       "19   78   76     2     1   2.0\n",
       "20  100  116   -16    -1 -11.0\n",
       "21   89   78    11     1   7.5\n",
       "22   85  101   -16    -1 -11.0\n",
       "23   88  123   -35    -1 -19.0"
      ]
     },
     "execution_count": 1,
     "metadata": {},
     "output_type": "execute_result"
    }
   ],
   "source": [
    "import matplotlib.pyplot as plt\n",
    "import pandas as pd\n",
    "from scipy.stats import t, norm, binom, rankdata\n",
    "from sklearn.linear_model import LinearRegression\n",
    "\n",
    "# Enter 2 columns of B (before), A (after)\n",
    "dt = {'R': [113,105,130,101,138,118,87,116,75,96,122,103,116,107,118,103,111,104, 111,89,78,100,89,85,88], \n",
    "      'L': [137,105,133,108,115,170,103,145,78,107,84,148,147,87,166,146,123,135,112,93,76,116,78,101,123]}\n",
    "\n",
    "df = pd.DataFrame(dt)\n",
    "df.drop(index=df[df.R==df.L].index, inplace=True)\n",
    "df.reset_index(drop=True, inplace=True)\n",
    "\n",
    "df['Diff'] = df.apply(lambda X: X['R'] - X['L'], axis=1)\n",
    "df['Sign'] = df['Diff'].apply(lambda d: 1 if d > 0 else -1 if d < 0 else 0)\n",
    "df['Rank'] = rankdata(df.Diff * df.Sign) * df.Sign\n",
    "df"
   ]
  },
  {
   "cell_type": "code",
   "execution_count": 2,
   "metadata": {},
   "outputs": [
    {
     "data": {
      "image/png": "[encoded data removed]",
      "text/plain": [
       "<Figure size 1152x576 with 2 Axes>"
      ]
     },
     "metadata": {
      "needs_background": "light"
     },
     "output_type": "display_data"
    }
   ],
   "source": [
    "w, h = 2, 1\n",
    "fig, axes = plt.subplots(h, w, figsize=(16, 8))\n",
    "\n",
    "axes[0].boxplot([df.L, df.R, df.Diff, df.Rank], \n",
    "                labels=['Left', 'Right', 'Difference', 'Signed Rank'])\n",
    "axes[1].scatter(df.L, df.R, color='b')\n",
    "axes[1].set_xlabel('Left')\n",
    "axes[1].set_ylabel('Right')\n",
    "\n",
    "model = LinearRegression()\n",
    "model.fit(df['L'].values.reshape(-1,1), df['R'].values.reshape(-1,1))\n",
    "Y = model.predict(df.L.values.reshape(-1,1))\n",
    "axes[1].plot(df.L, Y, color='r')\n",
    "\n",
    "plt.show()"
   ]
  },
  {
   "cell_type": "markdown",
   "metadata": {},
   "source": [
    "#### 1. Difference Test"
   ]
  },
  {
   "cell_type": "code",
   "execution_count": 3,
   "metadata": {},
   "outputs": [
    {
     "data": {
      "text/plain": [
       "(-13.875, 4.747)"
      ]
     },
     "execution_count": 3,
     "metadata": {},
     "output_type": "execute_result"
    }
   ],
   "source": [
    "# The mean of Diff is normally distributed, hence\n",
    "mean = df['Diff'].mean()\n",
    "std_mean = df['Diff'].std() / (len(df))**0.5\n",
    "round(mean, 3), round(std_mean, 3)"
   ]
  },
  {
   "cell_type": "code",
   "execution_count": 4,
   "metadata": {},
   "outputs": [
    {
     "data": {
      "text/plain": [
       "2.069"
      ]
     },
     "execution_count": 4,
     "metadata": {},
     "output_type": "execute_result"
    }
   ],
   "source": [
    "# Set significant level alpha, degree of freedoms, one tail or two tails.\n",
    "alpha, ddof = 0.05, len(df) - 1\n",
    "two_tails = True\n",
    "\n",
    "# Compute the t statistic value\n",
    "if two_tails:\n",
    "    t_alpha = t.ppf(1 - alpha/2, ddof) \n",
    "else:\n",
    "    t_alpha = t.ppf(1 - alpha, ddof) \n",
    "\n",
    "round(t_alpha, 3)"
   ]
  },
  {
   "cell_type": "code",
   "execution_count": 5,
   "metadata": {},
   "outputs": [
    {
     "data": {
      "text/plain": [
       "(-23.696, -4.054)"
      ]
     },
     "execution_count": 5,
     "metadata": {},
     "output_type": "execute_result"
    }
   ],
   "source": [
    "# Compute the (1 - alpha) * 100% confidence interval\n",
    "ci = (mean - t_alpha * std_mean, mean + t_alpha * std_mean)\n",
    "round(ci[0], 3), round(ci[1], 3)"
   ]
  },
  {
   "cell_type": "code",
   "execution_count": 6,
   "metadata": {},
   "outputs": [
    {
     "data": {
      "text/plain": [
       "2.923"
      ]
     },
     "execution_count": 6,
     "metadata": {},
     "output_type": "execute_result"
    }
   ],
   "source": [
    "# Asumme H0 is true, then Diff = 0, hence the t statistic:\n",
    "t_null = abs(mean) / std_mean\n",
    "round(t_null, 3)"
   ]
  },
  {
   "cell_type": "code",
   "execution_count": 7,
   "metadata": {},
   "outputs": [
    {
     "name": "stdout",
     "output_type": "stream",
     "text": [
      "The test statistic is statistically significant. H0 should be rejected!\n"
     ]
    }
   ],
   "source": [
    "# Evaluate the rejection of H0\n",
    "if t_null > t_alpha:\n",
    "    print('The test statistic is statistically significant. H0 should be rejected!')\n",
    "else:\n",
    "    print('The test statistic is not statistically significant. H0 cannot be rejected!')"
   ]
  },
  {
   "cell_type": "code",
   "execution_count": 8,
   "metadata": {},
   "outputs": [
    {
     "name": "stdout",
     "output_type": "stream",
     "text": [
      "0.008\n"
     ]
    }
   ],
   "source": [
    "p_value = 1 - t.cdf(t_null, ddof)\n",
    "\n",
    "if two_tails:\n",
    "    print(round(2 * p_value, 3))\n",
    "else:\n",
    "    print(round(p_value, 3))"
   ]
  },
  {
   "cell_type": "code",
   "execution_count": 9,
   "metadata": {},
   "outputs": [
    {
     "name": "stdout",
     "output_type": "stream",
     "text": [
      "0.008\n"
     ]
    }
   ],
   "source": [
    "# Other way to compute the p_value using the survival function of stats\n",
    "p_value = t.sf(t_null, ddof)\n",
    "\n",
    "if two_tails:\n",
    "    print(round(2 * p_value, 3))\n",
    "else:\n",
    "    print(round(p_value, 3))"
   ]
  },
  {
   "cell_type": "markdown",
   "metadata": {},
   "source": [
    "#### 2. Signed Rank"
   ]
  },
  {
   "cell_type": "code",
   "execution_count": 10,
   "metadata": {},
   "outputs": [
    {
     "data": {
      "text/plain": [
       "(150.0, 35.0)"
      ]
     },
     "execution_count": 10,
     "metadata": {},
     "output_type": "execute_result"
    }
   ],
   "source": [
    "n = len(df)\n",
    "# Compute the mean and the std of the rank\n",
    "mean = n * (n + 1) / 4\n",
    "std_ = (n * (n + 1) * (2 * n + 1) / 24)**0.5\n",
    "round(mean, 3), round(std_, 3)"
   ]
  },
  {
   "cell_type": "code",
   "execution_count": 11,
   "metadata": {},
   "outputs": [
    {
     "data": {
      "text/plain": [
       "1.96"
      ]
     },
     "execution_count": 11,
     "metadata": {},
     "output_type": "execute_result"
    }
   ],
   "source": [
    "# Set significant level alpha, one tail or two tails.\n",
    "alpha = 0.05\n",
    "two_tails = True\n",
    "\n",
    "# Compute the Z statistic value\n",
    "if two_tails:\n",
    "    Z_alpha = norm.ppf(1 - alpha/2) \n",
    "else:\n",
    "    Z_alpha = norm.ppf(1 - alpha) \n",
    "\n",
    "round(Z_alpha, 3)"
   ]
  },
  {
   "cell_type": "code",
   "execution_count": 12,
   "metadata": {},
   "outputs": [
    {
     "data": {
      "text/plain": [
       "(81.401, 218.599)"
      ]
     },
     "execution_count": 12,
     "metadata": {},
     "output_type": "execute_result"
    }
   ],
   "source": [
    "# Compute confidence interval according to the significant level alpha\n",
    "ci = (mean - Z_alpha * std_, mean + Z_alpha * std_)\n",
    "round(ci[0], 3), round(ci[1], 3)"
   ]
  },
  {
   "cell_type": "code",
   "execution_count": 13,
   "metadata": {},
   "outputs": [
    {
     "data": {
      "text/plain": [
       "(56.5, 2.671)"
      ]
     },
     "execution_count": 13,
     "metadata": {},
     "output_type": "execute_result"
    }
   ],
   "source": [
    "# Asumme H0 is true, then Rank = 0, hence the Z statistic:\n",
    "positive_sum = df['Rank'][df.Rank > 0].sum()\n",
    "Z_null = abs(positive_sum - mean) / std_\n",
    "positive_sum, round(Z_null, 3)"
   ]
  },
  {
   "cell_type": "code",
   "execution_count": 14,
   "metadata": {},
   "outputs": [
    {
     "name": "stdout",
     "output_type": "stream",
     "text": [
      "The test statistic is statistically significant. H0 should be rejected!\n"
     ]
    }
   ],
   "source": [
    "# Evaluate the rejection of H0\n",
    "if Z_null > Z_alpha:\n",
    "    print('The test statistic is statistically significant. H0 should be rejected!')\n",
    "else:\n",
    "    print('The test statistic is not statistically significant. H0 cannot be rejected!')"
   ]
  },
  {
   "cell_type": "code",
   "execution_count": 15,
   "metadata": {},
   "outputs": [
    {
     "name": "stdout",
     "output_type": "stream",
     "text": [
      "0.008\n"
     ]
    }
   ],
   "source": [
    "p_value = 1 - norm.cdf(abs(Z_null))\n",
    "\n",
    "if two_tails:\n",
    "    print(round(2 * p_value, 3))\n",
    "else:\n",
    "    print(round(p_value, 3))"
   ]
  },
  {
   "cell_type": "code",
   "execution_count": 16,
   "metadata": {},
   "outputs": [
    {
     "name": "stdout",
     "output_type": "stream",
     "text": [
      "0.008\n"
     ]
    }
   ],
   "source": [
    "# Other way to compute the p_value using the survival function of stats\n",
    "p_value = norm.sf(abs(Z_null))\n",
    "\n",
    "if two_tails:\n",
    "    print(round(2 * p_value, 3))\n",
    "else:\n",
    "    print(round(p_value, 3))"
   ]
  },
  {
   "cell_type": "markdown",
   "metadata": {},
   "source": [
    "#### 3. Sign Test"
   ]
  },
  {
   "cell_type": "code",
   "execution_count": 17,
   "metadata": {},
   "outputs": [
    {
     "data": {
      "text/plain": [
       "(5, 19, 24)"
      ]
     },
     "execution_count": 17,
     "metadata": {},
     "output_type": "execute_result"
    }
   ],
   "source": [
    "len(df[df.Sign > 0]), len(df[df.Sign < 0]), n"
   ]
  },
  {
   "cell_type": "code",
   "execution_count": 18,
   "metadata": {},
   "outputs": [
    {
     "data": {
      "text/plain": [
       "(5, 24, 0.5)"
      ]
     },
     "execution_count": 18,
     "metadata": {},
     "output_type": "execute_result"
    }
   ],
   "source": [
    "# Compute the test statistic = min (# positive, # negative)\n",
    "n, p = len(df), 0.5\n",
    "k = min(len(df[df.Sign > 0]), len(df[df.Sign < 0]))\n",
    "k, n, p"
   ]
  },
  {
   "cell_type": "code",
   "execution_count": 19,
   "metadata": {},
   "outputs": [
    {
     "data": {
      "text/plain": [
       "0.007"
      ]
     },
     "execution_count": 19,
     "metadata": {},
     "output_type": "execute_result"
    }
   ],
   "source": [
    "# Compute the p-value = P(x <= k)\n",
    "p_value = binom.cdf(k, n, p)\n",
    "if two_tails:\n",
    "    p_value *= 2\n",
    "round(p_value, 3)"
   ]
  },
  {
   "cell_type": "code",
   "execution_count": 20,
   "metadata": {},
   "outputs": [
    {
     "name": "stdout",
     "output_type": "stream",
     "text": [
      "The test statistic is statistically significant. H0 should be rejected!\n"
     ]
    }
   ],
   "source": [
    "alpha = 0.05\n",
    "\n",
    "# Evaluate the rejection of H0\n",
    "if p_value < alpha:\n",
    "    print('The test statistic is statistically significant. H0 should be rejected!')\n",
    "else:\n",
    "    print('The test statistic is not statistically significant. H0 cannot be rejected!')"
   ]
  },
  {
   "cell_type": "code",
   "execution_count": null,
   "metadata": {},
   "outputs": [],
   "source": []
  }
 ],
 "metadata": {
  "kernelspec": {
   "display_name": "Python 3",
   "language": "python",
   "name": "python3"
  },
  "language_info": {
   "codemirror_mode": {
    "name": "ipython",
    "version": 3
   },
   "file_extension": ".py",
   "mimetype": "text/x-python",
   "name": "python",
   "nbconvert_exporter": "python",
   "pygments_lexer": "ipython3",
   "version": "3.7.7"
  }
 },
 "nbformat": 4,
 "nbformat_minor": 4
}
