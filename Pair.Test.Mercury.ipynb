{
 "cells": [
  {
   "cell_type": "code",
   "execution_count": 1,
   "metadata": {},
   "outputs": [
    {
     "data": {
      "text/html": [
       "<div>\n",
       "<style scoped>\n",
       "    .dataframe tbody tr th:only-of-type {\n",
       "        vertical-align: middle;\n",
       "    }\n",
       "\n",
       "    .dataframe tbody tr th {\n",
       "        vertical-align: top;\n",
       "    }\n",
       "\n",
       "    .dataframe thead th {\n",
       "        text-align: right;\n",
       "    }\n",
       "</style>\n",
       "<table border=\"1\" class=\"dataframe\">\n",
       "  <thead>\n",
       "    <tr style=\"text-align: right;\">\n",
       "      <th></th>\n",
       "      <th>Selective Reduction</th>\n",
       "      <th>Permanganate</th>\n",
       "      <th>Difference</th>\n",
       "      <th>Sign</th>\n",
       "      <th>Signed Rank</th>\n",
       "    </tr>\n",
       "  </thead>\n",
       "  <tbody>\n",
       "    <tr>\n",
       "      <th>0</th>\n",
       "      <td>0.32</td>\n",
       "      <td>0.39</td>\n",
       "      <td>0.07</td>\n",
       "      <td>1</td>\n",
       "      <td>15.5</td>\n",
       "    </tr>\n",
       "    <tr>\n",
       "      <th>1</th>\n",
       "      <td>0.40</td>\n",
       "      <td>0.47</td>\n",
       "      <td>0.07</td>\n",
       "      <td>1</td>\n",
       "      <td>15.5</td>\n",
       "    </tr>\n",
       "    <tr>\n",
       "      <th>2</th>\n",
       "      <td>0.47</td>\n",
       "      <td>0.43</td>\n",
       "      <td>-0.04</td>\n",
       "      <td>-1</td>\n",
       "      <td>-11.0</td>\n",
       "    </tr>\n",
       "    <tr>\n",
       "      <th>3</th>\n",
       "      <td>0.32</td>\n",
       "      <td>0.42</td>\n",
       "      <td>0.10</td>\n",
       "      <td>1</td>\n",
       "      <td>19.0</td>\n",
       "    </tr>\n",
       "    <tr>\n",
       "      <th>4</th>\n",
       "      <td>0.35</td>\n",
       "      <td>0.30</td>\n",
       "      <td>-0.05</td>\n",
       "      <td>-1</td>\n",
       "      <td>-13.5</td>\n",
       "    </tr>\n",
       "    <tr>\n",
       "      <th>5</th>\n",
       "      <td>0.32</td>\n",
       "      <td>0.43</td>\n",
       "      <td>0.11</td>\n",
       "      <td>1</td>\n",
       "      <td>20.0</td>\n",
       "    </tr>\n",
       "    <tr>\n",
       "      <th>6</th>\n",
       "      <td>0.63</td>\n",
       "      <td>0.98</td>\n",
       "      <td>0.35</td>\n",
       "      <td>1</td>\n",
       "      <td>23.0</td>\n",
       "    </tr>\n",
       "    <tr>\n",
       "      <th>7</th>\n",
       "      <td>0.50</td>\n",
       "      <td>0.86</td>\n",
       "      <td>0.36</td>\n",
       "      <td>1</td>\n",
       "      <td>24.0</td>\n",
       "    </tr>\n",
       "    <tr>\n",
       "      <th>8</th>\n",
       "      <td>0.60</td>\n",
       "      <td>0.79</td>\n",
       "      <td>0.19</td>\n",
       "      <td>1</td>\n",
       "      <td>22.0</td>\n",
       "    </tr>\n",
       "    <tr>\n",
       "      <th>9</th>\n",
       "      <td>0.38</td>\n",
       "      <td>0.33</td>\n",
       "      <td>-0.05</td>\n",
       "      <td>-1</td>\n",
       "      <td>-13.5</td>\n",
       "    </tr>\n",
       "    <tr>\n",
       "      <th>10</th>\n",
       "      <td>0.46</td>\n",
       "      <td>0.45</td>\n",
       "      <td>-0.01</td>\n",
       "      <td>-1</td>\n",
       "      <td>-2.5</td>\n",
       "    </tr>\n",
       "    <tr>\n",
       "      <th>11</th>\n",
       "      <td>0.20</td>\n",
       "      <td>0.22</td>\n",
       "      <td>0.02</td>\n",
       "      <td>1</td>\n",
       "      <td>6.5</td>\n",
       "    </tr>\n",
       "    <tr>\n",
       "      <th>12</th>\n",
       "      <td>0.31</td>\n",
       "      <td>0.30</td>\n",
       "      <td>-0.01</td>\n",
       "      <td>-1</td>\n",
       "      <td>-2.5</td>\n",
       "    </tr>\n",
       "    <tr>\n",
       "      <th>13</th>\n",
       "      <td>0.62</td>\n",
       "      <td>0.60</td>\n",
       "      <td>-0.02</td>\n",
       "      <td>-1</td>\n",
       "      <td>-6.5</td>\n",
       "    </tr>\n",
       "    <tr>\n",
       "      <th>14</th>\n",
       "      <td>0.52</td>\n",
       "      <td>0.53</td>\n",
       "      <td>0.01</td>\n",
       "      <td>1</td>\n",
       "      <td>2.5</td>\n",
       "    </tr>\n",
       "    <tr>\n",
       "      <th>15</th>\n",
       "      <td>0.77</td>\n",
       "      <td>0.85</td>\n",
       "      <td>0.08</td>\n",
       "      <td>1</td>\n",
       "      <td>17.5</td>\n",
       "    </tr>\n",
       "    <tr>\n",
       "      <th>16</th>\n",
       "      <td>0.23</td>\n",
       "      <td>0.21</td>\n",
       "      <td>-0.02</td>\n",
       "      <td>-1</td>\n",
       "      <td>-6.5</td>\n",
       "    </tr>\n",
       "    <tr>\n",
       "      <th>17</th>\n",
       "      <td>0.30</td>\n",
       "      <td>0.33</td>\n",
       "      <td>0.03</td>\n",
       "      <td>1</td>\n",
       "      <td>9.0</td>\n",
       "    </tr>\n",
       "    <tr>\n",
       "      <th>18</th>\n",
       "      <td>0.70</td>\n",
       "      <td>0.57</td>\n",
       "      <td>-0.13</td>\n",
       "      <td>-1</td>\n",
       "      <td>-21.0</td>\n",
       "    </tr>\n",
       "    <tr>\n",
       "      <th>19</th>\n",
       "      <td>0.41</td>\n",
       "      <td>0.43</td>\n",
       "      <td>0.02</td>\n",
       "      <td>1</td>\n",
       "      <td>6.5</td>\n",
       "    </tr>\n",
       "    <tr>\n",
       "      <th>20</th>\n",
       "      <td>0.53</td>\n",
       "      <td>0.49</td>\n",
       "      <td>-0.04</td>\n",
       "      <td>-1</td>\n",
       "      <td>-11.0</td>\n",
       "    </tr>\n",
       "    <tr>\n",
       "      <th>21</th>\n",
       "      <td>0.19</td>\n",
       "      <td>0.20</td>\n",
       "      <td>0.01</td>\n",
       "      <td>1</td>\n",
       "      <td>2.5</td>\n",
       "    </tr>\n",
       "    <tr>\n",
       "      <th>22</th>\n",
       "      <td>0.31</td>\n",
       "      <td>0.35</td>\n",
       "      <td>0.04</td>\n",
       "      <td>1</td>\n",
       "      <td>11.0</td>\n",
       "    </tr>\n",
       "    <tr>\n",
       "      <th>23</th>\n",
       "      <td>0.48</td>\n",
       "      <td>0.40</td>\n",
       "      <td>-0.08</td>\n",
       "      <td>-1</td>\n",
       "      <td>-17.5</td>\n",
       "    </tr>\n",
       "  </tbody>\n",
       "</table>\n",
       "</div>"
      ],
      "text/plain": [
       "    Selective Reduction  Permanganate  Difference  Sign  Signed Rank\n",
       "0                  0.32          0.39        0.07     1         15.5\n",
       "1                  0.40          0.47        0.07     1         15.5\n",
       "2                  0.47          0.43       -0.04    -1        -11.0\n",
       "3                  0.32          0.42        0.10     1         19.0\n",
       "4                  0.35          0.30       -0.05    -1        -13.5\n",
       "5                  0.32          0.43        0.11     1         20.0\n",
       "6                  0.63          0.98        0.35     1         23.0\n",
       "7                  0.50          0.86        0.36     1         24.0\n",
       "8                  0.60          0.79        0.19     1         22.0\n",
       "9                  0.38          0.33       -0.05    -1        -13.5\n",
       "10                 0.46          0.45       -0.01    -1         -2.5\n",
       "11                 0.20          0.22        0.02     1          6.5\n",
       "12                 0.31          0.30       -0.01    -1         -2.5\n",
       "13                 0.62          0.60       -0.02    -1         -6.5\n",
       "14                 0.52          0.53        0.01     1          2.5\n",
       "15                 0.77          0.85        0.08     1         17.5\n",
       "16                 0.23          0.21       -0.02    -1         -6.5\n",
       "17                 0.30          0.33        0.03     1          9.0\n",
       "18                 0.70          0.57       -0.13    -1        -21.0\n",
       "19                 0.41          0.43        0.02     1          6.5\n",
       "20                 0.53          0.49       -0.04    -1        -11.0\n",
       "21                 0.19          0.20        0.01     1          2.5\n",
       "22                 0.31          0.35        0.04     1         11.0\n",
       "23                 0.48          0.40       -0.08    -1        -17.5"
      ]
     },
     "execution_count": 1,
     "metadata": {},
     "output_type": "execute_result"
    }
   ],
   "source": [
    "import matplotlib.pyplot as plt\n",
    "import pandas as pd\n",
    "from scipy.stats import t, norm, binom, rankdata\n",
    "from sklearn.linear_model import LinearRegression\n",
    "\n",
    "# Enter 2 columns of B (before), A (after)\n",
    "dt = {'Selective Reduction': [32,40,11,47,32,35,32,63,50,60,38,46,20,31,62,52,77,23,30,70,41,53,19,31,48], \n",
    "      'Permanganate':        [39,47,11,43,42,30,43,98,86,79,33,45,22,30,60,53,85,21,33,57,43,49,20,35,40]}\n",
    "\n",
    "df = pd.DataFrame(dt)\n",
    "df.drop(index=df[df['Selective Reduction']==df['Permanganate']].index, inplace=True)\n",
    "df.reset_index(drop=True, inplace=True)\n",
    "\n",
    "df['Difference'] = df.apply(lambda X: X['Permanganate'] - X['Selective Reduction'], axis=1)\n",
    "df['Sign'] = df['Difference'].apply(lambda d: 1 if d > 0 else -1)\n",
    "df['Signed Rank'] = rankdata(abs(df.Difference)) * df.Sign\n",
    "df[['Selective Reduction', 'Permanganate', 'Difference']] = df[['Selective Reduction', 'Permanganate', 'Difference']] / 100\n",
    "df"
   ]
  },
  {
   "cell_type": "code",
   "execution_count": 2,
   "metadata": {},
   "outputs": [
    {
     "data": {
      "image/png": "[encoded data removed]",
      "text/plain": [
       "<Figure size 1152x576 with 2 Axes>"
      ]
     },
     "metadata": {
      "needs_background": "light"
     },
     "output_type": "display_data"
    }
   ],
   "source": [
    "w, h = 2, 1\n",
    "fig, axes = plt.subplots(h, w, figsize=(16, 8))\n",
    "\n",
    "axes[0].boxplot([df['Selective Reduction'], df['Permanganate'], df['Difference'], df['Signed Rank']/100],\n",
    "                labels=['Selective Reduction', 'Permanganate', 'Difference', 'Signed Rank (x100)'])\n",
    "axes[1].scatter(df['Selective Reduction'], df['Permanganate'], color='b')\n",
    "axes[1].set_xlabel('Selective Reduction')\n",
    "axes[1].set_ylabel('Permanganate')\n",
    "\n",
    "model = LinearRegression()\n",
    "model.fit(df['Selective Reduction'].values.reshape(-1,1), df['Permanganate'].values.reshape(-1,1))\n",
    "Y = model.predict(df['Selective Reduction'].values.reshape(-1,1))\n",
    "axes[1].plot(df['Selective Reduction'], Y, color='r')\n",
    "\n",
    "plt.show()"
   ]
  },
  {
   "cell_type": "markdown",
   "metadata": {},
   "source": [
    "#### 1. Difference Test"
   ]
  },
  {
   "cell_type": "code",
   "execution_count": 3,
   "metadata": {},
   "outputs": [
    {
     "data": {
      "text/plain": [
       "(0.042, 0.024)"
      ]
     },
     "execution_count": 3,
     "metadata": {},
     "output_type": "execute_result"
    }
   ],
   "source": [
    "# The mean of Diff is normally distributed, hence\n",
    "mean = df['Difference'].mean()\n",
    "std_mean = df['Difference'].std() / (len(df))**0.5\n",
    "round(mean, 3), round(std_mean, 3)"
   ]
  },
  {
   "cell_type": "code",
   "execution_count": 4,
   "metadata": {},
   "outputs": [
    {
     "data": {
      "text/plain": [
       "2.069"
      ]
     },
     "execution_count": 4,
     "metadata": {},
     "output_type": "execute_result"
    }
   ],
   "source": [
    "# Set significant level alpha, degree of freedoms, one tail or two tails.\n",
    "alpha, ddof = 0.05, len(df) - 1\n",
    "two_tails = True\n",
    "\n",
    "# Compute the t statistic value\n",
    "if two_tails:\n",
    "    t_alpha = t.ppf(1 - alpha/2, ddof) \n",
    "else:\n",
    "    t_alpha = t.ppf(1 - alpha, ddof) \n",
    "\n",
    "round(t_alpha, 3)"
   ]
  },
  {
   "cell_type": "code",
   "execution_count": 5,
   "metadata": {},
   "outputs": [
    {
     "data": {
      "text/plain": [
       "(-0.008, 0.092)"
      ]
     },
     "execution_count": 5,
     "metadata": {},
     "output_type": "execute_result"
    }
   ],
   "source": [
    "# Compute the (1 - alpha) * 100% confidence interval\n",
    "ci = (mean - t_alpha * std_mean, mean + t_alpha * std_mean)\n",
    "round(ci[0], 3), round(ci[1], 3)"
   ]
  },
  {
   "cell_type": "code",
   "execution_count": 6,
   "metadata": {},
   "outputs": [
    {
     "data": {
      "text/plain": [
       "(1.748, 23)"
      ]
     },
     "execution_count": 6,
     "metadata": {},
     "output_type": "execute_result"
    }
   ],
   "source": [
    "# Asumme H0 is true, then D = 0, hence the t statistic:\n",
    "t_null = abs(mean) / std_mean\n",
    "round(t_null, 3), ddof"
   ]
  },
  {
   "cell_type": "code",
   "execution_count": 7,
   "metadata": {},
   "outputs": [
    {
     "name": "stdout",
     "output_type": "stream",
     "text": [
      "The test statistic is not statistically significant. H0 cannot be rejected!\n"
     ]
    }
   ],
   "source": [
    "# Evaluate the rejection of H0\n",
    "if t_null > t_alpha:\n",
    "    print('The test statistic is statistically significant. H0 should be rejected!')\n",
    "else:\n",
    "    print('The test statistic is not statistically significant. H0 cannot be rejected!')"
   ]
  },
  {
   "cell_type": "code",
   "execution_count": 8,
   "metadata": {},
   "outputs": [
    {
     "name": "stdout",
     "output_type": "stream",
     "text": [
      "0.094\n"
     ]
    }
   ],
   "source": [
    "p_value = 1 - t.cdf(t_null, ddof)\n",
    "\n",
    "if two_tails:\n",
    "    print(round(2 * p_value, 3))\n",
    "else:\n",
    "    print(round(p_value, 3))"
   ]
  },
  {
   "cell_type": "code",
   "execution_count": 9,
   "metadata": {},
   "outputs": [
    {
     "name": "stdout",
     "output_type": "stream",
     "text": [
      "0.094\n"
     ]
    }
   ],
   "source": [
    "# Other way to compute the p_value using the survival function of stats\n",
    "p_value = t.sf(t_null, ddof)\n",
    "\n",
    "if two_tails:\n",
    "    print(round(2 * p_value, 3))\n",
    "else:\n",
    "    print(round(p_value, 3))"
   ]
  },
  {
   "cell_type": "markdown",
   "metadata": {},
   "source": [
    "#### 2. Signed Rank Test"
   ]
  },
  {
   "cell_type": "code",
   "execution_count": 10,
   "metadata": {},
   "outputs": [
    {
     "data": {
      "text/plain": [
       "(150.0, 35.0)"
      ]
     },
     "execution_count": 10,
     "metadata": {},
     "output_type": "execute_result"
    }
   ],
   "source": [
    "# Compute the mean and std of the rank\n",
    "n = len(df)\n",
    "mean = n * (n + 1) / 4\n",
    "std_ = (n * (n + 1) * (2 * n + 1) / 24)**0.5\n",
    "round(mean, 3), round(std_, 3)"
   ]
  },
  {
   "cell_type": "code",
   "execution_count": 11,
   "metadata": {},
   "outputs": [
    {
     "data": {
      "text/plain": [
       "1.96"
      ]
     },
     "execution_count": 11,
     "metadata": {},
     "output_type": "execute_result"
    }
   ],
   "source": [
    "# Set significant level alpha, one tail or two tails.\n",
    "alpha = 0.05\n",
    "two_tails = True\n",
    "\n",
    "# Compute the Z statistic value\n",
    "if two_tails:\n",
    "    Z_alpha = norm.ppf(1 - alpha/2) \n",
    "else:\n",
    "    Z_alpha = norm.ppf(1 - alpha) \n",
    "\n",
    "round(Z_alpha, 3)"
   ]
  },
  {
   "cell_type": "code",
   "execution_count": 12,
   "metadata": {},
   "outputs": [
    {
     "data": {
      "text/plain": [
       "(81.401, 218.599)"
      ]
     },
     "execution_count": 12,
     "metadata": {},
     "output_type": "execute_result"
    }
   ],
   "source": [
    "# Compute the (1 - alpha) * 100% confidence interval\n",
    "ci = (mean - Z_alpha * std_, mean + Z_alpha * std_)\n",
    "round(ci[0], 3), round(ci[1], 3)"
   ]
  },
  {
   "cell_type": "code",
   "execution_count": 13,
   "metadata": {},
   "outputs": [
    {
     "data": {
      "text/plain": [
       "(105.5, 1.271)"
      ]
     },
     "execution_count": 13,
     "metadata": {},
     "output_type": "execute_result"
    }
   ],
   "source": [
    "# Asumme H0 is true, then Rank = 0, hence the Z statistic:\n",
    "negative_sum = df['Signed Rank'][df['Signed Rank'] < 0].sum() * (-1)\n",
    "Z_null = abs(negative_sum - mean) / std_\n",
    "negative_sum, round(Z_null, 3)"
   ]
  },
  {
   "cell_type": "code",
   "execution_count": 14,
   "metadata": {},
   "outputs": [
    {
     "name": "stdout",
     "output_type": "stream",
     "text": [
      "The test statistic is not statistically significant. H0 cannot be rejected!\n"
     ]
    }
   ],
   "source": [
    "# Evaluate the rejection of H0\n",
    "if Z_null > Z_alpha:\n",
    "    print('The test statistic is statistically significant. H0 should be rejected!')\n",
    "else:\n",
    "    print('The test statistic is not statistically significant. H0 cannot be rejected!')"
   ]
  },
  {
   "cell_type": "code",
   "execution_count": 15,
   "metadata": {},
   "outputs": [
    {
     "name": "stdout",
     "output_type": "stream",
     "text": [
      "0.204\n"
     ]
    }
   ],
   "source": [
    "p_value = 1 - norm.cdf(Z_null)\n",
    "\n",
    "if two_tails:\n",
    "    print(round(2 * p_value, 3))\n",
    "else:\n",
    "    print(round(p_value, 3))"
   ]
  },
  {
   "cell_type": "code",
   "execution_count": 16,
   "metadata": {},
   "outputs": [
    {
     "name": "stdout",
     "output_type": "stream",
     "text": [
      "0.204\n"
     ]
    }
   ],
   "source": [
    "# Other way to compute the p_value using the survival function of stats\n",
    "p_value = norm.sf(Z_null)\n",
    "\n",
    "if two_tails:\n",
    "    print(round(2 * p_value, 3))\n",
    "else:\n",
    "    print(round(p_value, 3))"
   ]
  },
  {
   "cell_type": "markdown",
   "metadata": {},
   "source": [
    "#### 3. Sign Test"
   ]
  },
  {
   "cell_type": "code",
   "execution_count": 17,
   "metadata": {},
   "outputs": [
    {
     "data": {
      "text/plain": [
       "(14, 10, 24)"
      ]
     },
     "execution_count": 17,
     "metadata": {},
     "output_type": "execute_result"
    }
   ],
   "source": [
    "n = len(df)\n",
    "two_tail = True\n",
    "len(df[df.Sign > 0]), len(df[df.Sign < 0]), n"
   ]
  },
  {
   "cell_type": "code",
   "execution_count": 18,
   "metadata": {},
   "outputs": [
    {
     "data": {
      "text/plain": [
       "(10, 24, 0.5)"
      ]
     },
     "execution_count": 18,
     "metadata": {},
     "output_type": "execute_result"
    }
   ],
   "source": [
    "# Compute the test statistic = min (# positive, # negative)\n",
    "n, p = len(df), 0.5\n",
    "k = min(len(df[df.Sign > 0]), len(df[df.Sign < 0]))\n",
    "k, n, p"
   ]
  },
  {
   "cell_type": "code",
   "execution_count": 19,
   "metadata": {},
   "outputs": [
    {
     "data": {
      "text/plain": [
       "0.541"
      ]
     },
     "execution_count": 19,
     "metadata": {},
     "output_type": "execute_result"
    }
   ],
   "source": [
    "# Compute the p-value = P(x <= k)\n",
    "p_value = binom.cdf(k, n, p)\n",
    "if two_tails:\n",
    "    p_value *= 2\n",
    "round(p_value, 3)"
   ]
  },
  {
   "cell_type": "code",
   "execution_count": 20,
   "metadata": {},
   "outputs": [
    {
     "name": "stdout",
     "output_type": "stream",
     "text": [
      "The test statistic is not statistically significant. H0 cannot be rejected!\n"
     ]
    }
   ],
   "source": [
    "alpha = 0.05\n",
    "\n",
    "# Evaluate the rejection of H0\n",
    "if p_value < alpha:\n",
    "    print('The test statistic is statistically significant. H0 should be rejected!')\n",
    "else:\n",
    "    print('The test statistic is not statistically significant. H0 cannot be rejected!')"
   ]
  },
  {
   "cell_type": "code",
   "execution_count": null,
   "metadata": {},
   "outputs": [],
   "source": []
  }
 ],
 "metadata": {
  "kernelspec": {
   "display_name": "Python 3",
   "language": "python",
   "name": "python3"
  },
  "language_info": {
   "codemirror_mode": {
    "name": "ipython",
    "version": 3
   },
   "file_extension": ".py",
   "mimetype": "text/x-python",
   "name": "python",
   "nbconvert_exporter": "python",
   "pygments_lexer": "ipython3",
   "version": "3.7.7"
  }
 },
 "nbformat": 4,
 "nbformat_minor": 4
}
