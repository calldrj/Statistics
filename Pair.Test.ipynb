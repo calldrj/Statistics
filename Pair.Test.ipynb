{
 "cells": [
  {
   "cell_type": "code",
   "execution_count": 1,
   "metadata": {},
   "outputs": [
    {
     "data": {
      "text/html": [
       "<div>\n",
       "<style scoped>\n",
       "    .dataframe tbody tr th:only-of-type {\n",
       "        vertical-align: middle;\n",
       "    }\n",
       "\n",
       "    .dataframe tbody tr th {\n",
       "        vertical-align: top;\n",
       "    }\n",
       "\n",
       "    .dataframe thead th {\n",
       "        text-align: right;\n",
       "    }\n",
       "</style>\n",
       "<table border=\"1\" class=\"dataframe\">\n",
       "  <thead>\n",
       "    <tr style=\"text-align: right;\">\n",
       "      <th></th>\n",
       "      <th>B</th>\n",
       "      <th>A</th>\n",
       "      <th>D</th>\n",
       "    </tr>\n",
       "  </thead>\n",
       "  <tbody>\n",
       "    <tr>\n",
       "      <th>0</th>\n",
       "      <td>25</td>\n",
       "      <td>27</td>\n",
       "      <td>2</td>\n",
       "    </tr>\n",
       "    <tr>\n",
       "      <th>1</th>\n",
       "      <td>25</td>\n",
       "      <td>29</td>\n",
       "      <td>4</td>\n",
       "    </tr>\n",
       "    <tr>\n",
       "      <th>2</th>\n",
       "      <td>27</td>\n",
       "      <td>37</td>\n",
       "      <td>10</td>\n",
       "    </tr>\n",
       "    <tr>\n",
       "      <th>3</th>\n",
       "      <td>44</td>\n",
       "      <td>56</td>\n",
       "      <td>12</td>\n",
       "    </tr>\n",
       "    <tr>\n",
       "      <th>4</th>\n",
       "      <td>30</td>\n",
       "      <td>46</td>\n",
       "      <td>16</td>\n",
       "    </tr>\n",
       "    <tr>\n",
       "      <th>5</th>\n",
       "      <td>67</td>\n",
       "      <td>82</td>\n",
       "      <td>15</td>\n",
       "    </tr>\n",
       "    <tr>\n",
       "      <th>6</th>\n",
       "      <td>53</td>\n",
       "      <td>57</td>\n",
       "      <td>4</td>\n",
       "    </tr>\n",
       "    <tr>\n",
       "      <th>7</th>\n",
       "      <td>53</td>\n",
       "      <td>80</td>\n",
       "      <td>27</td>\n",
       "    </tr>\n",
       "    <tr>\n",
       "      <th>8</th>\n",
       "      <td>52</td>\n",
       "      <td>61</td>\n",
       "      <td>9</td>\n",
       "    </tr>\n",
       "    <tr>\n",
       "      <th>9</th>\n",
       "      <td>60</td>\n",
       "      <td>59</td>\n",
       "      <td>-1</td>\n",
       "    </tr>\n",
       "    <tr>\n",
       "      <th>10</th>\n",
       "      <td>28</td>\n",
       "      <td>43</td>\n",
       "      <td>15</td>\n",
       "    </tr>\n",
       "  </tbody>\n",
       "</table>\n",
       "</div>"
      ],
      "text/plain": [
       "     B   A   D\n",
       "0   25  27   2\n",
       "1   25  29   4\n",
       "2   27  37  10\n",
       "3   44  56  12\n",
       "4   30  46  16\n",
       "5   67  82  15\n",
       "6   53  57   4\n",
       "7   53  80  27\n",
       "8   52  61   9\n",
       "9   60  59  -1\n",
       "10  28  43  15"
      ]
     },
     "execution_count": 1,
     "metadata": {},
     "output_type": "execute_result"
    }
   ],
   "source": [
    "import matplotlib.pyplot as plt\n",
    "import pandas as pd\n",
    "from scipy.stats import t\n",
    "from sklearn.linear_model import LinearRegression\n",
    "\n",
    "# Enter 2 columns of B (before), A (after)\n",
    "dt = {'B': [25,25,27,44,30,67,53,53,52,60,28], \n",
    "      'A': [27,29,37,56,46,82,57,80,61,59,43]}\n",
    "\n",
    "df = pd.DataFrame(dt)\n",
    "\n",
    "df['D'] = df.apply(lambda X: X['A'] - X['B'], axis=1)\n",
    "df"
   ]
  },
  {
   "cell_type": "code",
   "execution_count": 2,
   "metadata": {},
   "outputs": [
    {
     "data": {
      "text/plain": [
       "(10.273, 2.405)"
      ]
     },
     "execution_count": 2,
     "metadata": {},
     "output_type": "execute_result"
    }
   ],
   "source": [
    "# The mean of D is normally distributed, hence\n",
    "mean = df['D'].mean()\n",
    "std_mean = df['D'].std() / (len(df))**0.5\n",
    "round(mean, 3), round(std_mean, 3)"
   ]
  },
  {
   "cell_type": "code",
   "execution_count": 3,
   "metadata": {},
   "outputs": [
    {
     "data": {
      "image/png": "[encoded data removed]",
      "text/plain": [
       "<Figure size 1152x576 with 2 Axes>"
      ]
     },
     "metadata": {
      "needs_background": "light"
     },
     "output_type": "display_data"
    }
   ],
   "source": [
    "w, h = 2, 1\n",
    "fig, axes = plt.subplots(h, w, figsize=(16, 8))\n",
    "\n",
    "axes[0].boxplot([df.B, df.A, df.D], labels=['Before', 'After', 'Difference'])\n",
    "axes[1].scatter(df.B, df.A, color='b')\n",
    "axes[1].set_xlabel('Before')\n",
    "axes[1].set_ylabel('After')\n",
    "\n",
    "model = LinearRegression()\n",
    "model.fit(df['B'].values.reshape(-1,1), df['A'].values.reshape(-1,1))\n",
    "Y = model.predict(df.B.values.reshape(-1,1))\n",
    "axes[1].plot(df.B, Y, color='r')\n",
    "\n",
    "plt.show()"
   ]
  },
  {
   "cell_type": "code",
   "execution_count": 4,
   "metadata": {},
   "outputs": [
    {
     "data": {
      "text/plain": [
       "3.169"
      ]
     },
     "execution_count": 4,
     "metadata": {},
     "output_type": "execute_result"
    }
   ],
   "source": [
    "# Set significant level alpha, degree of freedoms, one tail or two tails.\n",
    "alpha, ddof = 0.005, len(df) - 1\n",
    "two_tails = False\n",
    "\n",
    "# Compute the t statistic value\n",
    "if two_tails:\n",
    "    t_alpha = t.ppf(1 - alpha/2, ddof) \n",
    "else:\n",
    "    t_alpha = t.ppf(1 - alpha, ddof) \n",
    "\n",
    "round(t_alpha, 3)"
   ]
  },
  {
   "cell_type": "code",
   "execution_count": 5,
   "metadata": {},
   "outputs": [
    {
     "data": {
      "text/plain": [
       "(2.651, 17.894)"
      ]
     },
     "execution_count": 5,
     "metadata": {},
     "output_type": "execute_result"
    }
   ],
   "source": [
    "# Compute confidence interval according to the significant level alpha\n",
    "ci = (mean - t_alpha * std_mean, mean + t_alpha * std_mean)\n",
    "round(ci[0], 3), round(ci[1], 3)"
   ]
  },
  {
   "cell_type": "code",
   "execution_count": 6,
   "metadata": {},
   "outputs": [
    {
     "data": {
      "text/plain": [
       "4.272"
      ]
     },
     "execution_count": 6,
     "metadata": {},
     "output_type": "execute_result"
    }
   ],
   "source": [
    "# Asumme H0 is true, then D = 0, hence the t statistic:\n",
    "t_null = mean / std_mean\n",
    "round(t_null, 3)"
   ]
  },
  {
   "cell_type": "code",
   "execution_count": 7,
   "metadata": {},
   "outputs": [
    {
     "name": "stdout",
     "output_type": "stream",
     "text": [
      "The test statistic is way extreme. H0 should be rejected!\n"
     ]
    }
   ],
   "source": [
    "# Evaluate the rejection of H0\n",
    "if t_null > t_alpha:\n",
    "    print('The test statistic is way extreme. H0 should be rejected!')\n",
    "else:\n",
    "    print('The test statistic is normal. H0 cannot be rejected!')"
   ]
  },
  {
   "cell_type": "code",
   "execution_count": 8,
   "metadata": {},
   "outputs": [
    {
     "name": "stdout",
     "output_type": "stream",
     "text": [
      "0.001\n"
     ]
    }
   ],
   "source": [
    "p_value = 1 - t.cdf(t_null, ddof)\n",
    "\n",
    "if two_tails:\n",
    "    print(round(2 * p_value, 3))\n",
    "else:\n",
    "    print(round(p_value, 3))"
   ]
  },
  {
   "cell_type": "code",
   "execution_count": 9,
   "metadata": {},
   "outputs": [
    {
     "name": "stdout",
     "output_type": "stream",
     "text": [
      "0.001\n"
     ]
    }
   ],
   "source": [
    "# Other way to compute the p_value using the survival function of stats\n",
    "p_value = t.sf(t_null, ddof)\n",
    "\n",
    "if two_tails:\n",
    "    print(round(2 * p_value, 3))\n",
    "else:\n",
    "    print(round(p_value, 3))"
   ]
  },
  {
   "cell_type": "code",
   "execution_count": null,
   "metadata": {},
   "outputs": [],
   "source": []
  }
 ],
 "metadata": {
  "kernelspec": {
   "display_name": "Python 3",
   "language": "python",
   "name": "python3"
  },
  "language_info": {
   "codemirror_mode": {
    "name": "ipython",
    "version": 3
   },
   "file_extension": ".py",
   "mimetype": "text/x-python",
   "name": "python",
   "nbconvert_exporter": "python",
   "pygments_lexer": "ipython3",
   "version": "3.7.7"
  }
 },
 "nbformat": 4,
 "nbformat_minor": 4
}
