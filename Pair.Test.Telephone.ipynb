{
 "cells": [
  {
   "cell_type": "code",
   "execution_count": 1,
   "metadata": {},
   "outputs": [
    {
     "data": {
      "text/html": [
       "<div>\n",
       "<style scoped>\n",
       "    .dataframe tbody tr th:only-of-type {\n",
       "        vertical-align: middle;\n",
       "    }\n",
       "\n",
       "    .dataframe tbody tr th {\n",
       "        vertical-align: top;\n",
       "    }\n",
       "\n",
       "    .dataframe thead th {\n",
       "        text-align: right;\n",
       "    }\n",
       "</style>\n",
       "<table border=\"1\" class=\"dataframe\">\n",
       "  <thead>\n",
       "    <tr style=\"text-align: right;\">\n",
       "      <th></th>\n",
       "      <th>Test</th>\n",
       "      <th>Control</th>\n",
       "      <th>Difference</th>\n",
       "      <th>Sign</th>\n",
       "      <th>Signed Rank</th>\n",
       "    </tr>\n",
       "  </thead>\n",
       "  <tbody>\n",
       "    <tr>\n",
       "      <th>0</th>\n",
       "      <td>676</td>\n",
       "      <td>88</td>\n",
       "      <td>588</td>\n",
       "      <td>1</td>\n",
       "      <td>11.0</td>\n",
       "    </tr>\n",
       "    <tr>\n",
       "      <th>1</th>\n",
       "      <td>206</td>\n",
       "      <td>570</td>\n",
       "      <td>-364</td>\n",
       "      <td>-1</td>\n",
       "      <td>-6.0</td>\n",
       "    </tr>\n",
       "    <tr>\n",
       "      <th>2</th>\n",
       "      <td>230</td>\n",
       "      <td>605</td>\n",
       "      <td>-375</td>\n",
       "      <td>-1</td>\n",
       "      <td>-8.0</td>\n",
       "    </tr>\n",
       "    <tr>\n",
       "      <th>3</th>\n",
       "      <td>256</td>\n",
       "      <td>617</td>\n",
       "      <td>-361</td>\n",
       "      <td>-1</td>\n",
       "      <td>-5.0</td>\n",
       "    </tr>\n",
       "    <tr>\n",
       "      <th>4</th>\n",
       "      <td>280</td>\n",
       "      <td>653</td>\n",
       "      <td>-373</td>\n",
       "      <td>-1</td>\n",
       "      <td>-7.0</td>\n",
       "    </tr>\n",
       "    <tr>\n",
       "      <th>5</th>\n",
       "      <td>433</td>\n",
       "      <td>2913</td>\n",
       "      <td>-2480</td>\n",
       "      <td>-1</td>\n",
       "      <td>-14.0</td>\n",
       "    </tr>\n",
       "    <tr>\n",
       "      <th>6</th>\n",
       "      <td>337</td>\n",
       "      <td>924</td>\n",
       "      <td>-587</td>\n",
       "      <td>-1</td>\n",
       "      <td>-10.0</td>\n",
       "    </tr>\n",
       "    <tr>\n",
       "      <th>7</th>\n",
       "      <td>466</td>\n",
       "      <td>286</td>\n",
       "      <td>180</td>\n",
       "      <td>1</td>\n",
       "      <td>4.0</td>\n",
       "    </tr>\n",
       "    <tr>\n",
       "      <th>8</th>\n",
       "      <td>497</td>\n",
       "      <td>1098</td>\n",
       "      <td>-601</td>\n",
       "      <td>-1</td>\n",
       "      <td>-12.0</td>\n",
       "    </tr>\n",
       "    <tr>\n",
       "      <th>9</th>\n",
       "      <td>512</td>\n",
       "      <td>982</td>\n",
       "      <td>-470</td>\n",
       "      <td>-1</td>\n",
       "      <td>-9.0</td>\n",
       "    </tr>\n",
       "    <tr>\n",
       "      <th>10</th>\n",
       "      <td>794</td>\n",
       "      <td>2346</td>\n",
       "      <td>-1552</td>\n",
       "      <td>-1</td>\n",
       "      <td>-13.0</td>\n",
       "    </tr>\n",
       "    <tr>\n",
       "      <th>11</th>\n",
       "      <td>428</td>\n",
       "      <td>321</td>\n",
       "      <td>107</td>\n",
       "      <td>1</td>\n",
       "      <td>2.0</td>\n",
       "    </tr>\n",
       "    <tr>\n",
       "      <th>12</th>\n",
       "      <td>452</td>\n",
       "      <td>615</td>\n",
       "      <td>-163</td>\n",
       "      <td>-1</td>\n",
       "      <td>-3.0</td>\n",
       "    </tr>\n",
       "    <tr>\n",
       "      <th>13</th>\n",
       "      <td>512</td>\n",
       "      <td>519</td>\n",
       "      <td>-7</td>\n",
       "      <td>-1</td>\n",
       "      <td>-1.0</td>\n",
       "    </tr>\n",
       "  </tbody>\n",
       "</table>\n",
       "</div>"
      ],
      "text/plain": [
       "    Test  Control  Difference  Sign  Signed Rank\n",
       "0    676       88         588     1         11.0\n",
       "1    206      570        -364    -1         -6.0\n",
       "2    230      605        -375    -1         -8.0\n",
       "3    256      617        -361    -1         -5.0\n",
       "4    280      653        -373    -1         -7.0\n",
       "5    433     2913       -2480    -1        -14.0\n",
       "6    337      924        -587    -1        -10.0\n",
       "7    466      286         180     1          4.0\n",
       "8    497     1098        -601    -1        -12.0\n",
       "9    512      982        -470    -1         -9.0\n",
       "10   794     2346       -1552    -1        -13.0\n",
       "11   428      321         107     1          2.0\n",
       "12   452      615        -163    -1         -3.0\n",
       "13   512      519          -7    -1         -1.0"
      ]
     },
     "execution_count": 1,
     "metadata": {},
     "output_type": "execute_result"
    }
   ],
   "source": [
    "import matplotlib.pyplot as plt\n",
    "import pandas as pd\n",
    "from scipy.stats import t, norm, binom, rankdata\n",
    "from sklearn.linear_model import LinearRegression\n",
    "\n",
    "# Enter 2 columns of B (before), A (after)\n",
    "dt = {'Test':    [676,206,230,256,280,433,337,466,497,512,794,428,452,512], \n",
    "      'Control': [88,570,605,617,653,2913,924,286,1098,982,2346,321,615,519]}\n",
    "\n",
    "df = pd.DataFrame(dt)\n",
    "df.drop(index=df[df['Test']==df['Control']].index, inplace=True)\n",
    "df.reset_index(drop=True, inplace=True)\n",
    "\n",
    "df['Difference'] = df.apply(lambda X: X['Test'] - X['Control'], axis=1)\n",
    "df['Sign'] = df['Difference'].apply(lambda d: 1 if d > 0 else -1)\n",
    "df['Signed Rank'] = rankdata(abs(df.Difference)) * df.Sign\n",
    "df"
   ]
  },
  {
   "cell_type": "code",
   "execution_count": 2,
   "metadata": {},
   "outputs": [
    {
     "data": {
      "image/png": "[encoded data removed]",
      "text/plain": [
       "<Figure size 1152x576 with 2 Axes>"
      ]
     },
     "metadata": {
      "needs_background": "light"
     },
     "output_type": "display_data"
    }
   ],
   "source": [
    "w, h = 2, 1\n",
    "fig, axes = plt.subplots(h, w, figsize=(16, 8))\n",
    "\n",
    "axes[0].boxplot([df['Test'], df['Control'], df['Difference'], df['Signed Rank'] * 100],\n",
    "                labels=['Test', 'Control', 'Difference', 'Signed Rank (/100)'])\n",
    "axes[1].scatter(df['Test'], df['Control'], color='b')\n",
    "axes[1].set_xlabel('Test')\n",
    "axes[1].set_ylabel('Control')\n",
    "\n",
    "model = LinearRegression()\n",
    "model.fit(df['Test'].values.reshape(-1,1), df['Control'].values.reshape(-1,1))\n",
    "Y = model.predict(df['Test'].values.reshape(-1,1))\n",
    "axes[1].plot(df['Test'], Y, color='r')\n",
    "\n",
    "plt.show()"
   ]
  },
  {
   "cell_type": "code",
   "execution_count": 3,
   "metadata": {},
   "outputs": [
    {
     "data": {
      "image/png": "[encoded data removed]",
      "text/plain": [
       "<Figure size 432x432 with 1 Axes>"
      ]
     },
     "metadata": {
      "needs_background": "light"
     },
     "output_type": "display_data"
    }
   ],
   "source": [
    "plt.gcf().set_size_inches(6,6)\n",
    "plt.scatter(df.Control, df.Difference)\n",
    "plt.ylabel('Difference')\n",
    "plt.xlabel('Control')\n",
    "model = LinearRegression()\n",
    "model.fit(df['Control'].values.reshape(-1,1), df['Difference'].values.reshape(-1,1))\n",
    "Y = model.predict(df['Control'].values.reshape(-1,1))\n",
    "plt.plot(df['Control'], Y, color='r')\n",
    "\n",
    "plt.show()"
   ]
  },
  {
   "cell_type": "markdown",
   "metadata": {},
   "source": [
    "#### 1. Difference Test"
   ]
  },
  {
   "cell_type": "code",
   "execution_count": 4,
   "metadata": {},
   "outputs": [
    {
     "data": {
      "text/plain": [
       "1.771"
      ]
     },
     "execution_count": 4,
     "metadata": {},
     "output_type": "execute_result"
    }
   ],
   "source": [
    "''' Establish hypothesis, set significant level, and the test statistics\n",
    "    H0: mu_D = 0 vs. Ha: mu_D < 0 , where mu_D = Test - Control\n",
    "    T = |mu_D - mean| / std_error\n",
    "    Compute the degree of freedoms, define one tail/two tails alternative.\n",
    "''' \n",
    "alpha, ddof = 0.05, len(df) - 1\n",
    "two_tails = False\n",
    "\n",
    "# Compute the t statistic value\n",
    "if two_tails:\n",
    "    t_alpha = t.ppf(1 - alpha/2, ddof) \n",
    "else:\n",
    "    t_alpha = t.ppf(1 - alpha, ddof) \n",
    "\n",
    "round(t_alpha, 3)"
   ]
  },
  {
   "cell_type": "code",
   "execution_count": 5,
   "metadata": {},
   "outputs": [
    {
     "data": {
      "text/plain": [
       "(-461.286, 202.533)"
      ]
     },
     "execution_count": 5,
     "metadata": {},
     "output_type": "execute_result"
    }
   ],
   "source": [
    "# The sample mean, std error of Difference is normally distributed, hence\n",
    "mean = df['Difference'].mean()\n",
    "std_ = df['Difference'].std() / (len(df))**0.5\n",
    "round(mean, 3), round(std_, 3)"
   ]
  },
  {
   "cell_type": "code",
   "execution_count": 6,
   "metadata": {},
   "outputs": [
    {
     "data": {
      "text/plain": [
       "(-819.958, -102.613)"
      ]
     },
     "execution_count": 6,
     "metadata": {},
     "output_type": "execute_result"
    }
   ],
   "source": [
    "# Compute the (1 - alpha) * 100% confidence interval\n",
    "ci = (mean - t_alpha * std_, mean + t_alpha * std_)\n",
    "round(ci[0], 3), round(ci[1], 3)"
   ]
  },
  {
   "cell_type": "code",
   "execution_count": 7,
   "metadata": {},
   "outputs": [
    {
     "data": {
      "text/plain": [
       "(2.278, 13)"
      ]
     },
     "execution_count": 7,
     "metadata": {},
     "output_type": "execute_result"
    }
   ],
   "source": [
    "# Asumme H0, then Difference = 0, compute the t statistic:\n",
    "t_null = abs(mean) / std_\n",
    "round(t_null, 3), ddof"
   ]
  },
  {
   "cell_type": "code",
   "execution_count": 8,
   "metadata": {},
   "outputs": [
    {
     "name": "stdout",
     "output_type": "stream",
     "text": [
      "The test statistic is statistically significant. H0 should be rejected!\n"
     ]
    }
   ],
   "source": [
    "# Evaluate the rejection of H0\n",
    "if t_null > t_alpha:\n",
    "    print('The test statistic is statistically significant. H0 should be rejected!')\n",
    "else:\n",
    "    print('The test statistic is not statistically significant. H0 cannot be rejected!')"
   ]
  },
  {
   "cell_type": "code",
   "execution_count": 9,
   "metadata": {},
   "outputs": [
    {
     "name": "stdout",
     "output_type": "stream",
     "text": [
      "0.02\n"
     ]
    }
   ],
   "source": [
    "p_value = 1 - t.cdf(t_null, ddof)\n",
    "\n",
    "if two_tails:\n",
    "    print(round(2 * p_value, 3))\n",
    "else:\n",
    "    print(round(p_value, 3))"
   ]
  },
  {
   "cell_type": "code",
   "execution_count": 10,
   "metadata": {},
   "outputs": [
    {
     "name": "stdout",
     "output_type": "stream",
     "text": [
      "0.02\n"
     ]
    }
   ],
   "source": [
    "# Other way to compute the p_value using the survival function of stats\n",
    "p_value = t.sf(t_null, ddof)\n",
    "\n",
    "if two_tails:\n",
    "    print(round(2 * p_value, 3))\n",
    "else:\n",
    "    print(round(p_value, 3))"
   ]
  },
  {
   "cell_type": "markdown",
   "metadata": {},
   "source": [
    "#### 2. Signed Rank Test"
   ]
  },
  {
   "cell_type": "code",
   "execution_count": 11,
   "metadata": {},
   "outputs": [
    {
     "data": {
      "text/plain": [
       "1.645"
      ]
     },
     "execution_count": 11,
     "metadata": {},
     "output_type": "execute_result"
    }
   ],
   "source": [
    "''' Establish hypothesis, set significant level, and the test statistics\n",
    "    H0:  mu_D < 0 vs. Ha: mu_D < 0 , where mu_D = Test - Control\n",
    "    T = sum of postive Signed_Rank\n",
    "    Compute the degree of freedoms, define one tail/two tails alternative.\n",
    "''' \n",
    "\n",
    "# Set significant level alpha, one tail or two tails.\n",
    "alpha = 0.05\n",
    "two_tails = False\n",
    "\n",
    "# Compute the Z statistic value\n",
    "if two_tails:\n",
    "    Z_alpha = norm.ppf(1 - alpha/2) \n",
    "else:\n",
    "    Z_alpha = norm.ppf(1 - alpha) \n",
    "\n",
    "round(Z_alpha, 3)"
   ]
  },
  {
   "cell_type": "code",
   "execution_count": 12,
   "metadata": {},
   "outputs": [
    {
     "data": {
      "text/plain": [
       "(52.5, 15.93)"
      ]
     },
     "execution_count": 12,
     "metadata": {},
     "output_type": "execute_result"
    }
   ],
   "source": [
    "# Compute the mean and std of the rank under assumption of H0\n",
    "n = len(df)\n",
    "mean = n * (n + 1) / 4\n",
    "std_ = (mean * (2 * n + 1) / 6)**0.5\n",
    "round(mean, 3), round(std_, 3)"
   ]
  },
  {
   "cell_type": "code",
   "execution_count": 13,
   "metadata": {},
   "outputs": [
    {
     "data": {
      "text/plain": [
       "(26.298, 78.702)"
      ]
     },
     "execution_count": 13,
     "metadata": {},
     "output_type": "execute_result"
    }
   ],
   "source": [
    "# Compute the (1 - alpha) * 100% confidence interval\n",
    "ci = (mean - Z_alpha * std_, mean + Z_alpha * std_)\n",
    "round(ci[0], 3), round(ci[1], 3)"
   ]
  },
  {
   "cell_type": "code",
   "execution_count": 14,
   "metadata": {},
   "outputs": [
    {
     "data": {
      "text/plain": [
       "(17.0, 2.229)"
      ]
     },
     "execution_count": 14,
     "metadata": {},
     "output_type": "execute_result"
    }
   ],
   "source": [
    "# Asumme H0, compute the Z statistic:\n",
    "positive_sum = df['Signed Rank'][df['Signed Rank'] > 0].sum()\n",
    "Z_null = abs(positive_sum - mean) / std_\n",
    "positive_sum, round(Z_null, 3)"
   ]
  },
  {
   "cell_type": "code",
   "execution_count": 15,
   "metadata": {},
   "outputs": [
    {
     "name": "stdout",
     "output_type": "stream",
     "text": [
      "The test statistic is statistically significant. H0 should be rejected!\n"
     ]
    }
   ],
   "source": [
    "# Evaluate the rejection of H0\n",
    "if Z_null > Z_alpha:\n",
    "    print('The test statistic is statistically significant. H0 should be rejected!')\n",
    "else:\n",
    "    print('The test statistic is not statistically significant. H0 cannot be rejected!')"
   ]
  },
  {
   "cell_type": "code",
   "execution_count": 16,
   "metadata": {},
   "outputs": [
    {
     "name": "stdout",
     "output_type": "stream",
     "text": [
      "0.013\n"
     ]
    }
   ],
   "source": [
    "p_value = 1 - norm.cdf(Z_null)\n",
    "\n",
    "if two_tails:\n",
    "    print(round(2 * p_value, 3))\n",
    "else:\n",
    "    print(round(p_value, 3))"
   ]
  },
  {
   "cell_type": "code",
   "execution_count": 17,
   "metadata": {},
   "outputs": [
    {
     "name": "stdout",
     "output_type": "stream",
     "text": [
      "0.013\n"
     ]
    }
   ],
   "source": [
    "# Other way to compute the p_value using the survival function of stats\n",
    "p_value = norm.sf(Z_null)\n",
    "\n",
    "if two_tails:\n",
    "    print(round(2 * p_value, 3))\n",
    "else:\n",
    "    print(round(p_value, 3))"
   ]
  },
  {
   "cell_type": "markdown",
   "metadata": {},
   "source": [
    "#### 3. Sign Test"
   ]
  },
  {
   "cell_type": "code",
   "execution_count": 18,
   "metadata": {},
   "outputs": [
    {
     "data": {
      "text/plain": [
       "(3, 11, 14)"
      ]
     },
     "execution_count": 18,
     "metadata": {},
     "output_type": "execute_result"
    }
   ],
   "source": [
    "n = len(df)\n",
    "two_tail = False\n",
    "len(df[df.Sign > 0]), len(df[df.Sign < 0]), n"
   ]
  },
  {
   "cell_type": "code",
   "execution_count": 19,
   "metadata": {},
   "outputs": [
    {
     "data": {
      "text/plain": [
       "(3, 14, 0.5)"
      ]
     },
     "execution_count": 19,
     "metadata": {},
     "output_type": "execute_result"
    }
   ],
   "source": [
    "# Compute the test statistic = min (# positive, # negative)\n",
    "n, p = len(df), 0.5\n",
    "k = min(len(df[df.Sign > 0]), len(df[df.Sign < 0]))\n",
    "k, n, p"
   ]
  },
  {
   "cell_type": "code",
   "execution_count": 20,
   "metadata": {},
   "outputs": [
    {
     "data": {
      "text/plain": [
       "0.029"
      ]
     },
     "execution_count": 20,
     "metadata": {},
     "output_type": "execute_result"
    }
   ],
   "source": [
    "# Compute the p-value = P(x <= k)\n",
    "p_value = binom.cdf(k, n, p)\n",
    "if two_tails:\n",
    "    p_value *= 2\n",
    "round(p_value, 3)"
   ]
  },
  {
   "cell_type": "code",
   "execution_count": 21,
   "metadata": {},
   "outputs": [
    {
     "name": "stdout",
     "output_type": "stream",
     "text": [
      "The test statistic is statistically significant. H0 should be rejected!\n"
     ]
    }
   ],
   "source": [
    "alpha = 0.05\n",
    "\n",
    "# Evaluate the rejection of H0\n",
    "if p_value < alpha:\n",
    "    print('The test statistic is statistically significant. H0 should be rejected!')\n",
    "else:\n",
    "    print('The test statistic is not statistically significant. H0 cannot be rejected!')"
   ]
  },
  {
   "cell_type": "code",
   "execution_count": null,
   "metadata": {},
   "outputs": [],
   "source": []
  }
 ],
 "metadata": {
  "kernelspec": {
   "display_name": "Python 3",
   "language": "python",
   "name": "python3"
  },
  "language_info": {
   "codemirror_mode": {
    "name": "ipython",
    "version": 3
   },
   "file_extension": ".py",
   "mimetype": "text/x-python",
   "name": "python",
   "nbconvert_exporter": "python",
   "pygments_lexer": "ipython3",
   "version": "3.7.7"
  }
 },
 "nbformat": 4,
 "nbformat_minor": 4
}
